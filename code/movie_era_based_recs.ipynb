{
  "nbformat": 4,
  "nbformat_minor": 0,
  "metadata": {
    "kernelspec": {
      "display_name": "Python 3",
      "language": "python",
      "name": "python3"
    },
    "language_info": {
      "codemirror_mode": {
        "name": "ipython",
        "version": 3
      },
      "file_extension": ".py",
      "mimetype": "text/x-python",
      "name": "python",
      "nbconvert_exporter": "python",
      "pygments_lexer": "ipython3",
      "version": "3.7.6"
    },
    "colab": {
      "name": "movie_era_based_recs.ipynb",
      "provenance": []
    }
  },
  "cells": [
    {
      "cell_type": "markdown",
      "metadata": {
        "id": "4Cox5k2AMKsw",
        "colab_type": "text"
      },
      "source": [
        "This notebook uses the content based approach to include the time period in which the movie was launced. This method personalizes the users recommendations to include this feature."
      ]
    },
    {
      "cell_type": "code",
      "metadata": {
        "id": "bC1OAh-JMLd7",
        "colab_type": "code",
        "colab": {}
      },
      "source": [
        "import numpy as np\n",
        "import pandas as pd\n",
        "import matplotlib.pyplot as plt\n",
        "from ast import literal_eval\n",
        "import pdb"
      ],
      "execution_count": null,
      "outputs": []
    },
    {
      "cell_type": "code",
      "metadata": {
        "id": "wLkmHYnGLw5Z",
        "colab_type": "code",
        "colab": {}
      },
      "source": [
        "genre_user_vector = pd.read_csv(\"user_info.csv\")\n",
        "genre_user_vector = genre_user_vector[['userId', 'user_vector']]\n",
        "\n",
        "genre_user_vector['user_vector'] = genre_user_vector['user_vector'].apply(lambda x: x.replace('[', ' ').replace(']', ' ').strip().split())\n",
        "genre_user_vector['user_vector'] = genre_user_vector['user_vector'].apply(lambda x: np.asarray(x).astype(float))"
      ],
      "execution_count": null,
      "outputs": []
    },
    {
      "cell_type": "code",
      "metadata": {
        "id": "m4m_b7JbLw5c",
        "colab_type": "code",
        "colab": {}
      },
      "source": [
        "era_user_vector = pd.read_csv(\"user_era_vector.csv\")\n",
        "era_user_vector = era_user_vector[['userId', 'user_era_vector']]\n",
        "\n",
        "era_user_vector['user_era_vector'] = era_user_vector['user_era_vector'].apply(lambda x: x.replace('[', ' ').replace(']', ' ').strip().split())\n",
        "era_user_vector['user_era_vector'] = era_user_vector['user_era_vector'].apply(lambda x: np.asarray(x).astype(float))"
      ],
      "execution_count": null,
      "outputs": []
    },
    {
      "cell_type": "code",
      "metadata": {
        "id": "mCq1wzsaLw5f",
        "colab_type": "code",
        "colab": {}
      },
      "source": [
        "merged_user = genre_user_vector.join(era_user_vector['user_era_vector'])"
      ],
      "execution_count": null,
      "outputs": []
    },
    {
      "cell_type": "code",
      "metadata": {
        "id": "Obc2U0jILw5h",
        "colab_type": "code",
        "colab": {},
        "outputId": "f2a77bef-df14-4981-acba-8bd0fe07b36d"
      },
      "source": [
        "merged_user.head()"
      ],
      "execution_count": null,
      "outputs": [
        {
          "output_type": "execute_result",
          "data": {
            "text/html": [
              "<div>\n",
              "<style scoped>\n",
              "    .dataframe tbody tr th:only-of-type {\n",
              "        vertical-align: middle;\n",
              "    }\n",
              "\n",
              "    .dataframe tbody tr th {\n",
              "        vertical-align: top;\n",
              "    }\n",
              "\n",
              "    .dataframe thead th {\n",
              "        text-align: right;\n",
              "    }\n",
              "</style>\n",
              "<table border=\"1\" class=\"dataframe\">\n",
              "  <thead>\n",
              "    <tr style=\"text-align: right;\">\n",
              "      <th></th>\n",
              "      <th>userId</th>\n",
              "      <th>user_vector</th>\n",
              "      <th>user_era_vector</th>\n",
              "    </tr>\n",
              "  </thead>\n",
              "  <tbody>\n",
              "    <tr>\n",
              "      <th>0</th>\n",
              "      <td>1</td>\n",
              "      <td>[4.39189189, 4.65217391, 4.48571429, 4.2676056...</td>\n",
              "      <td>[4.63265306, 4.27272727, 4.6, 0.0]</td>\n",
              "    </tr>\n",
              "    <tr>\n",
              "      <th>1</th>\n",
              "      <td>2</td>\n",
              "      <td>[4.16666667, 0.0, 0.0, 4.2, 0.0, 4.5, 3.866666...</td>\n",
              "      <td>[0.0, 3.83333333, 4.05, 3.85]</td>\n",
              "    </tr>\n",
              "    <tr>\n",
              "      <th>2</th>\n",
              "      <td>3</td>\n",
              "      <td>[2.5, 0.5, 0.5, 0.5, 4.33333333, 0.5, 0.833333...</td>\n",
              "      <td>[2.45833333, 2.6875, 0.5, 0.0]</td>\n",
              "    </tr>\n",
              "    <tr>\n",
              "      <th>3</th>\n",
              "      <td>4</td>\n",
              "      <td>[3.47826087, 4.0, 3.77777778, 3.43902439, 3.53...</td>\n",
              "      <td>[4.4375, 3.25663717, 3.32142857, 0.0]</td>\n",
              "    </tr>\n",
              "    <tr>\n",
              "      <th>4</th>\n",
              "      <td>5</td>\n",
              "      <td>[3.16666667, 4.25, 4.0, 3.36363636, 4.0, 3.1, ...</td>\n",
              "      <td>[5.0, 3.55882353, 0.0, 0.0]</td>\n",
              "    </tr>\n",
              "  </tbody>\n",
              "</table>\n",
              "</div>"
            ],
            "text/plain": [
              "   userId                                        user_vector  \\\n",
              "0       1  [4.39189189, 4.65217391, 4.48571429, 4.2676056...   \n",
              "1       2  [4.16666667, 0.0, 0.0, 4.2, 0.0, 4.5, 3.866666...   \n",
              "2       3  [2.5, 0.5, 0.5, 0.5, 4.33333333, 0.5, 0.833333...   \n",
              "3       4  [3.47826087, 4.0, 3.77777778, 3.43902439, 3.53...   \n",
              "4       5  [3.16666667, 4.25, 4.0, 3.36363636, 4.0, 3.1, ...   \n",
              "\n",
              "                         user_era_vector  \n",
              "0     [4.63265306, 4.27272727, 4.6, 0.0]  \n",
              "1          [0.0, 3.83333333, 4.05, 3.85]  \n",
              "2         [2.45833333, 2.6875, 0.5, 0.0]  \n",
              "3  [4.4375, 3.25663717, 3.32142857, 0.0]  \n",
              "4            [5.0, 3.55882353, 0.0, 0.0]  "
            ]
          },
          "metadata": {
            "tags": []
          },
          "execution_count": 5
        }
      ]
    },
    {
      "cell_type": "code",
      "metadata": {
        "scrolled": false,
        "id": "FqxlInOILw5k",
        "colab_type": "code",
        "colab": {}
      },
      "source": [
        "merged_user['final_user_vector'] = merged_user.apply(lambda x: np.concatenate((2*x['user_vector'], x['user_era_vector'])), axis=1)"
      ],
      "execution_count": null,
      "outputs": []
    },
    {
      "cell_type": "code",
      "metadata": {
        "id": "R-USwe0RLw5m",
        "colab_type": "code",
        "colab": {},
        "outputId": "df1b11eb-6da3-4070-fbf7-149e619605b7"
      },
      "source": [
        "merged_user.head()"
      ],
      "execution_count": null,
      "outputs": [
        {
          "output_type": "execute_result",
          "data": {
            "text/html": [
              "<div>\n",
              "<style scoped>\n",
              "    .dataframe tbody tr th:only-of-type {\n",
              "        vertical-align: middle;\n",
              "    }\n",
              "\n",
              "    .dataframe tbody tr th {\n",
              "        vertical-align: top;\n",
              "    }\n",
              "\n",
              "    .dataframe thead th {\n",
              "        text-align: right;\n",
              "    }\n",
              "</style>\n",
              "<table border=\"1\" class=\"dataframe\">\n",
              "  <thead>\n",
              "    <tr style=\"text-align: right;\">\n",
              "      <th></th>\n",
              "      <th>userId</th>\n",
              "      <th>user_vector</th>\n",
              "      <th>user_era_vector</th>\n",
              "      <th>final_user_vector</th>\n",
              "    </tr>\n",
              "  </thead>\n",
              "  <tbody>\n",
              "    <tr>\n",
              "      <th>0</th>\n",
              "      <td>1</td>\n",
              "      <td>[4.39189189, 4.65217391, 4.48571429, 4.2676056...</td>\n",
              "      <td>[4.63265306, 4.27272727, 4.6, 0.0]</td>\n",
              "      <td>[8.78378378, 9.30434782, 8.97142858, 8.5352112...</td>\n",
              "    </tr>\n",
              "    <tr>\n",
              "      <th>1</th>\n",
              "      <td>2</td>\n",
              "      <td>[4.16666667, 0.0, 0.0, 4.2, 0.0, 4.5, 3.866666...</td>\n",
              "      <td>[0.0, 3.83333333, 4.05, 3.85]</td>\n",
              "      <td>[8.33333334, 0.0, 0.0, 8.4, 0.0, 9.0, 7.733333...</td>\n",
              "    </tr>\n",
              "    <tr>\n",
              "      <th>2</th>\n",
              "      <td>3</td>\n",
              "      <td>[2.5, 0.5, 0.5, 0.5, 4.33333333, 0.5, 0.833333...</td>\n",
              "      <td>[2.45833333, 2.6875, 0.5, 0.0]</td>\n",
              "      <td>[5.0, 1.0, 1.0, 1.0, 8.66666666, 1.0, 1.666666...</td>\n",
              "    </tr>\n",
              "    <tr>\n",
              "      <th>3</th>\n",
              "      <td>4</td>\n",
              "      <td>[3.47826087, 4.0, 3.77777778, 3.43902439, 3.53...</td>\n",
              "      <td>[4.4375, 3.25663717, 3.32142857, 0.0]</td>\n",
              "      <td>[6.95652174, 8.0, 7.55555556, 6.87804878, 7.06...</td>\n",
              "    </tr>\n",
              "    <tr>\n",
              "      <th>4</th>\n",
              "      <td>5</td>\n",
              "      <td>[3.16666667, 4.25, 4.0, 3.36363636, 4.0, 3.1, ...</td>\n",
              "      <td>[5.0, 3.55882353, 0.0, 0.0]</td>\n",
              "      <td>[6.33333334, 8.5, 8.0, 6.72727272, 8.0, 6.2, 7...</td>\n",
              "    </tr>\n",
              "  </tbody>\n",
              "</table>\n",
              "</div>"
            ],
            "text/plain": [
              "   userId                                        user_vector  \\\n",
              "0       1  [4.39189189, 4.65217391, 4.48571429, 4.2676056...   \n",
              "1       2  [4.16666667, 0.0, 0.0, 4.2, 0.0, 4.5, 3.866666...   \n",
              "2       3  [2.5, 0.5, 0.5, 0.5, 4.33333333, 0.5, 0.833333...   \n",
              "3       4  [3.47826087, 4.0, 3.77777778, 3.43902439, 3.53...   \n",
              "4       5  [3.16666667, 4.25, 4.0, 3.36363636, 4.0, 3.1, ...   \n",
              "\n",
              "                         user_era_vector  \\\n",
              "0     [4.63265306, 4.27272727, 4.6, 0.0]   \n",
              "1          [0.0, 3.83333333, 4.05, 3.85]   \n",
              "2         [2.45833333, 2.6875, 0.5, 0.0]   \n",
              "3  [4.4375, 3.25663717, 3.32142857, 0.0]   \n",
              "4            [5.0, 3.55882353, 0.0, 0.0]   \n",
              "\n",
              "                                   final_user_vector  \n",
              "0  [8.78378378, 9.30434782, 8.97142858, 8.5352112...  \n",
              "1  [8.33333334, 0.0, 0.0, 8.4, 0.0, 9.0, 7.733333...  \n",
              "2  [5.0, 1.0, 1.0, 1.0, 8.66666666, 1.0, 1.666666...  \n",
              "3  [6.95652174, 8.0, 7.55555556, 6.87804878, 7.06...  \n",
              "4  [6.33333334, 8.5, 8.0, 6.72727272, 8.0, 6.2, 7...  "
            ]
          },
          "metadata": {
            "tags": []
          },
          "execution_count": 7
        }
      ]
    },
    {
      "cell_type": "code",
      "metadata": {
        "id": "0-zBOAM8Lw5q",
        "colab_type": "code",
        "colab": {}
      },
      "source": [
        "movie_genre_vector = pd.read_csv(\"movie_vector.csv\")\n",
        "movie_genre_vector = movie_genre_vector[['movieId', 'movie_vector']]\n",
        "\n",
        "movie_genre_vector['movie_vector'] = movie_genre_vector['movie_vector'].apply(lambda x: x.replace('[', ' ').replace(']', ' ').strip().split())\n",
        "movie_genre_vector['movie_vector'] = movie_genre_vector['movie_vector'].apply(lambda x: np.asarray(x).astype(float))"
      ],
      "execution_count": null,
      "outputs": []
    },
    {
      "cell_type": "code",
      "metadata": {
        "id": "4awx_m7pLw5s",
        "colab_type": "code",
        "colab": {}
      },
      "source": [
        "movie_era_vector = pd.read_csv(\"movie_era_vector.csv\")\n",
        "movie_era_vector = movie_era_vector[['movieId', 'era_vector']]\n",
        "\n",
        "movie_era_vector['era_vector'] = movie_era_vector['era_vector'].apply(lambda x: x.replace('[', ' ').replace(']', ' ').strip().split())\n",
        "movie_era_vector['era_vector'] = movie_era_vector['era_vector'].apply(lambda x: np.asarray(x).astype(float))"
      ],
      "execution_count": null,
      "outputs": []
    },
    {
      "cell_type": "code",
      "metadata": {
        "id": "v92UsULNLw5u",
        "colab_type": "code",
        "colab": {}
      },
      "source": [
        "merged_movie = movie_genre_vector.join(movie_era_vector['era_vector'])\n",
        "merged_movie['final_movie_vector'] = merged_movie.apply(lambda x: np.concatenate((2*x['movie_vector'], x['era_vector'])), axis=1)"
      ],
      "execution_count": null,
      "outputs": []
    },
    {
      "cell_type": "code",
      "metadata": {
        "id": "jHxejQEiLw5w",
        "colab_type": "code",
        "colab": {},
        "outputId": "87e2afb0-4ac5-4411-de9e-23d316b3b758"
      },
      "source": [
        "merged_movie.head()"
      ],
      "execution_count": null,
      "outputs": [
        {
          "output_type": "execute_result",
          "data": {
            "text/html": [
              "<div>\n",
              "<style scoped>\n",
              "    .dataframe tbody tr th:only-of-type {\n",
              "        vertical-align: middle;\n",
              "    }\n",
              "\n",
              "    .dataframe tbody tr th {\n",
              "        vertical-align: top;\n",
              "    }\n",
              "\n",
              "    .dataframe thead th {\n",
              "        text-align: right;\n",
              "    }\n",
              "</style>\n",
              "<table border=\"1\" class=\"dataframe\">\n",
              "  <thead>\n",
              "    <tr style=\"text-align: right;\">\n",
              "      <th></th>\n",
              "      <th>movieId</th>\n",
              "      <th>movie_vector</th>\n",
              "      <th>era_vector</th>\n",
              "      <th>final_movie_vector</th>\n",
              "    </tr>\n",
              "  </thead>\n",
              "  <tbody>\n",
              "    <tr>\n",
              "      <th>0</th>\n",
              "      <td>1</td>\n",
              "      <td>[1.0, 1.0, 1.0, 1.0, 1.0, 0.0, 0.0, 0.0, 0.0, ...</td>\n",
              "      <td>[0.0, 1.0, 0.0, 0.0]</td>\n",
              "      <td>[2.0, 2.0, 2.0, 2.0, 2.0, 0.0, 0.0, 0.0, 0.0, ...</td>\n",
              "    </tr>\n",
              "    <tr>\n",
              "      <th>1</th>\n",
              "      <td>2</td>\n",
              "      <td>[1.0, 0.0, 1.0, 0.0, 1.0, 0.0, 0.0, 0.0, 0.0, ...</td>\n",
              "      <td>[0.0, 1.0, 0.0, 0.0]</td>\n",
              "      <td>[2.0, 0.0, 2.0, 0.0, 2.0, 0.0, 0.0, 0.0, 0.0, ...</td>\n",
              "    </tr>\n",
              "    <tr>\n",
              "      <th>2</th>\n",
              "      <td>3</td>\n",
              "      <td>[0.0, 0.0, 0.0, 1.0, 0.0, 1.0, 0.0, 0.0, 0.0, ...</td>\n",
              "      <td>[0.0, 1.0, 0.0, 0.0]</td>\n",
              "      <td>[0.0, 0.0, 0.0, 2.0, 0.0, 2.0, 0.0, 0.0, 0.0, ...</td>\n",
              "    </tr>\n",
              "    <tr>\n",
              "      <th>3</th>\n",
              "      <td>4</td>\n",
              "      <td>[0.0, 0.0, 0.0, 1.0, 0.0, 1.0, 1.0, 0.0, 0.0, ...</td>\n",
              "      <td>[0.0, 1.0, 0.0, 0.0]</td>\n",
              "      <td>[0.0, 0.0, 0.0, 2.0, 0.0, 2.0, 2.0, 0.0, 0.0, ...</td>\n",
              "    </tr>\n",
              "    <tr>\n",
              "      <th>4</th>\n",
              "      <td>5</td>\n",
              "      <td>[0.0, 0.0, 0.0, 1.0, 0.0, 0.0, 0.0, 0.0, 0.0, ...</td>\n",
              "      <td>[0.0, 1.0, 0.0, 0.0]</td>\n",
              "      <td>[0.0, 0.0, 0.0, 2.0, 0.0, 0.0, 0.0, 0.0, 0.0, ...</td>\n",
              "    </tr>\n",
              "  </tbody>\n",
              "</table>\n",
              "</div>"
            ],
            "text/plain": [
              "   movieId                                       movie_vector  \\\n",
              "0        1  [1.0, 1.0, 1.0, 1.0, 1.0, 0.0, 0.0, 0.0, 0.0, ...   \n",
              "1        2  [1.0, 0.0, 1.0, 0.0, 1.0, 0.0, 0.0, 0.0, 0.0, ...   \n",
              "2        3  [0.0, 0.0, 0.0, 1.0, 0.0, 1.0, 0.0, 0.0, 0.0, ...   \n",
              "3        4  [0.0, 0.0, 0.0, 1.0, 0.0, 1.0, 1.0, 0.0, 0.0, ...   \n",
              "4        5  [0.0, 0.0, 0.0, 1.0, 0.0, 0.0, 0.0, 0.0, 0.0, ...   \n",
              "\n",
              "             era_vector                                 final_movie_vector  \n",
              "0  [0.0, 1.0, 0.0, 0.0]  [2.0, 2.0, 2.0, 2.0, 2.0, 0.0, 0.0, 0.0, 0.0, ...  \n",
              "1  [0.0, 1.0, 0.0, 0.0]  [2.0, 0.0, 2.0, 0.0, 2.0, 0.0, 0.0, 0.0, 0.0, ...  \n",
              "2  [0.0, 1.0, 0.0, 0.0]  [0.0, 0.0, 0.0, 2.0, 0.0, 2.0, 0.0, 0.0, 0.0, ...  \n",
              "3  [0.0, 1.0, 0.0, 0.0]  [0.0, 0.0, 0.0, 2.0, 0.0, 2.0, 2.0, 0.0, 0.0, ...  \n",
              "4  [0.0, 1.0, 0.0, 0.0]  [0.0, 0.0, 0.0, 2.0, 0.0, 0.0, 0.0, 0.0, 0.0, ...  "
            ]
          },
          "metadata": {
            "tags": []
          },
          "execution_count": 11
        }
      ]
    },
    {
      "cell_type": "markdown",
      "metadata": {
        "id": "KF3gzUpwLw5y",
        "colab_type": "text"
      },
      "source": [
        "## Test"
      ]
    },
    {
      "cell_type": "code",
      "metadata": {
        "id": "NlP1KEMgLw5z",
        "colab_type": "code",
        "colab": {},
        "outputId": "96cb9714-bb7e-49c5-84e9-48a99eb3a0f8"
      },
      "source": [
        "ratings_test = pd.read_csv(\"testing_data.csv\", converters={\"genres\": literal_eval, \"tag\": literal_eval}) \n",
        "ratings_test.head()"
      ],
      "execution_count": null,
      "outputs": [
        {
          "output_type": "execute_result",
          "data": {
            "text/html": [
              "<div>\n",
              "<style scoped>\n",
              "    .dataframe tbody tr th:only-of-type {\n",
              "        vertical-align: middle;\n",
              "    }\n",
              "\n",
              "    .dataframe tbody tr th {\n",
              "        vertical-align: top;\n",
              "    }\n",
              "\n",
              "    .dataframe thead th {\n",
              "        text-align: right;\n",
              "    }\n",
              "</style>\n",
              "<table border=\"1\" class=\"dataframe\">\n",
              "  <thead>\n",
              "    <tr style=\"text-align: right;\">\n",
              "      <th></th>\n",
              "      <th>userId</th>\n",
              "      <th>movieId</th>\n",
              "      <th>rating</th>\n",
              "      <th>timestamp</th>\n",
              "      <th>genres</th>\n",
              "      <th>tag</th>\n",
              "    </tr>\n",
              "  </thead>\n",
              "  <tbody>\n",
              "    <tr>\n",
              "      <th>0</th>\n",
              "      <td>1</td>\n",
              "      <td>3</td>\n",
              "      <td>4.0</td>\n",
              "      <td>964981247</td>\n",
              "      <td>[Comedy, Romance]</td>\n",
              "      <td>[]</td>\n",
              "    </tr>\n",
              "    <tr>\n",
              "      <th>1</th>\n",
              "      <td>1</td>\n",
              "      <td>163</td>\n",
              "      <td>5.0</td>\n",
              "      <td>964983650</td>\n",
              "      <td>[Action, Romance, Western]</td>\n",
              "      <td>[]</td>\n",
              "    </tr>\n",
              "    <tr>\n",
              "      <th>2</th>\n",
              "      <td>1</td>\n",
              "      <td>316</td>\n",
              "      <td>3.0</td>\n",
              "      <td>964982310</td>\n",
              "      <td>[Action, Adventure, Sci-Fi]</td>\n",
              "      <td>[]</td>\n",
              "    </tr>\n",
              "    <tr>\n",
              "      <th>3</th>\n",
              "      <td>1</td>\n",
              "      <td>349</td>\n",
              "      <td>4.0</td>\n",
              "      <td>964982563</td>\n",
              "      <td>[Action, Crime, Drama, Thriller]</td>\n",
              "      <td>[]</td>\n",
              "    </tr>\n",
              "    <tr>\n",
              "      <th>4</th>\n",
              "      <td>1</td>\n",
              "      <td>441</td>\n",
              "      <td>4.0</td>\n",
              "      <td>964980868</td>\n",
              "      <td>[Comedy]</td>\n",
              "      <td>[]</td>\n",
              "    </tr>\n",
              "  </tbody>\n",
              "</table>\n",
              "</div>"
            ],
            "text/plain": [
              "   userId  movieId  rating  timestamp                            genres tag\n",
              "0       1        3     4.0  964981247                 [Comedy, Romance]  []\n",
              "1       1      163     5.0  964983650        [Action, Romance, Western]  []\n",
              "2       1      316     3.0  964982310       [Action, Adventure, Sci-Fi]  []\n",
              "3       1      349     4.0  964982563  [Action, Crime, Drama, Thriller]  []\n",
              "4       1      441     4.0  964980868                          [Comedy]  []"
            ]
          },
          "metadata": {
            "tags": []
          },
          "execution_count": 12
        }
      ]
    },
    {
      "cell_type": "code",
      "metadata": {
        "id": "3X3-GJDNLw51",
        "colab_type": "code",
        "colab": {}
      },
      "source": [
        "ratings_test = pd.read_csv(\"testing_data.csv\", converters={\"genres\": literal_eval, \"tag\": literal_eval}) \n",
        "ratings_test.head()\n",
        "\n",
        "algo_predictions = pd.DataFrame(columns=['userId', 'movieId', 'user_vector', 'movie_vector', 'og_rating', 'pred_rating'])\n",
        "error_count = 0\n",
        "for ind, row in ratings_test.iterrows():\n",
        "    userId = row['userId']\n",
        "    movieId = row['movieId']\n",
        "    og_rating = row['rating']\n",
        "    \n",
        "    user_vector = merged_user[merged_user['userId'] == int(userId)].final_user_vector.values[0]\n",
        "    if len(merged_movie[merged_movie['movieId'] == int(movieId)].final_movie_vector.values):\n",
        "        movie_vector = merged_movie[merged_movie['movieId'] == int(movieId)].final_movie_vector.values[0]\n",
        "    else:\n",
        "        error_count += 1\n",
        "        print(\"Movie vector not found!\", movieId)\n",
        "    predicted_rating = user_vector*movie_vector\n",
        "\n",
        "    if predicted_rating.any():\n",
        "        predicted_rating = np.nanmean(np.where(predicted_rating!=0, predicted_rating, np.nan))\n",
        "    else:\n",
        "        predicted_rating = 0\n",
        "\n",
        "    row_df = pd.DataFrame([[userId, movieId, user_vector, movie_vector, og_rating, predicted_rating]], \n",
        "                columns=['userId', 'movieId', 'user_vector', 'movie_vector', 'og_rating', 'pred_rating'])\n",
        "    algo_predictions = pd.concat([algo_predictions, row_df], ignore_index=True)"
      ],
      "execution_count": null,
      "outputs": []
    },
    {
      "cell_type": "code",
      "metadata": {
        "id": "spMCRnulLw53",
        "colab_type": "code",
        "colab": {},
        "outputId": "89e8b4bf-20e2-4cdf-d227-6bfc6fc71934"
      },
      "source": [
        "algo_predictions"
      ],
      "execution_count": null,
      "outputs": [
        {
          "output_type": "execute_result",
          "data": {
            "text/html": [
              "<div>\n",
              "<style scoped>\n",
              "    .dataframe tbody tr th:only-of-type {\n",
              "        vertical-align: middle;\n",
              "    }\n",
              "\n",
              "    .dataframe tbody tr th {\n",
              "        vertical-align: top;\n",
              "    }\n",
              "\n",
              "    .dataframe thead th {\n",
              "        text-align: right;\n",
              "    }\n",
              "</style>\n",
              "<table border=\"1\" class=\"dataframe\">\n",
              "  <thead>\n",
              "    <tr style=\"text-align: right;\">\n",
              "      <th></th>\n",
              "      <th>userId</th>\n",
              "      <th>movieId</th>\n",
              "      <th>user_vector</th>\n",
              "      <th>movie_vector</th>\n",
              "      <th>og_rating</th>\n",
              "      <th>pred_rating</th>\n",
              "    </tr>\n",
              "  </thead>\n",
              "  <tbody>\n",
              "    <tr>\n",
              "      <th>0</th>\n",
              "      <td>1</td>\n",
              "      <td>3</td>\n",
              "      <td>[8.78378378, 9.30434782, 8.97142858, 8.5352112...</td>\n",
              "      <td>[0.0, 0.0, 0.0, 2.0, 0.0, 2.0, 0.0, 0.0, 0.0, ...</td>\n",
              "      <td>4.0</td>\n",
              "      <td>12.892161</td>\n",
              "    </tr>\n",
              "    <tr>\n",
              "      <th>1</th>\n",
              "      <td>1</td>\n",
              "      <td>163</td>\n",
              "      <td>[8.78378378, 9.30434782, 8.97142858, 8.5352112...</td>\n",
              "      <td>[0.0, 0.0, 0.0, 0.0, 0.0, 2.0, 0.0, 2.0, 0.0, ...</td>\n",
              "      <td>5.0</td>\n",
              "      <td>14.134848</td>\n",
              "    </tr>\n",
              "    <tr>\n",
              "      <th>2</th>\n",
              "      <td>1</td>\n",
              "      <td>316</td>\n",
              "      <td>[8.78378378, 9.30434782, 8.97142858, 8.5352112...</td>\n",
              "      <td>[2.0, 0.0, 0.0, 0.0, 0.0, 0.0, 0.0, 2.0, 0.0, ...</td>\n",
              "      <td>3.0</td>\n",
              "      <td>13.986955</td>\n",
              "    </tr>\n",
              "    <tr>\n",
              "      <th>3</th>\n",
              "      <td>1</td>\n",
              "      <td>349</td>\n",
              "      <td>[8.78378378, 9.30434782, 8.97142858, 8.5352112...</td>\n",
              "      <td>[0.0, 0.0, 0.0, 0.0, 0.0, 0.0, 2.0, 2.0, 2.0, ...</td>\n",
              "      <td>4.0</td>\n",
              "      <td>14.707133</td>\n",
              "    </tr>\n",
              "    <tr>\n",
              "      <th>4</th>\n",
              "      <td>1</td>\n",
              "      <td>441</td>\n",
              "      <td>[8.78378378, 9.30434782, 8.97142858, 8.5352112...</td>\n",
              "      <td>[0.0, 0.0, 0.0, 2.0, 0.0, 0.0, 0.0, 0.0, 0.0, ...</td>\n",
              "      <td>4.0</td>\n",
              "      <td>10.671575</td>\n",
              "    </tr>\n",
              "    <tr>\n",
              "      <th>...</th>\n",
              "      <td>...</td>\n",
              "      <td>...</td>\n",
              "      <td>...</td>\n",
              "      <td>...</td>\n",
              "      <td>...</td>\n",
              "      <td>...</td>\n",
              "    </tr>\n",
              "    <tr>\n",
              "      <th>20163</th>\n",
              "      <td>610</td>\n",
              "      <td>156726</td>\n",
              "      <td>[7.38967136, 7.8490566, 7.34210526, 7.44984802...</td>\n",
              "      <td>[0.0, 0.0, 0.0, 0.0, 0.0, 0.0, 0.0, 0.0, 0.0, ...</td>\n",
              "      <td>4.5</td>\n",
              "      <td>8.852847</td>\n",
              "    </tr>\n",
              "    <tr>\n",
              "      <th>20164</th>\n",
              "      <td>610</td>\n",
              "      <td>159093</td>\n",
              "      <td>[7.38967136, 7.8490566, 7.34210526, 7.44984802...</td>\n",
              "      <td>[0.0, 0.0, 0.0, 2.0, 0.0, 0.0, 0.0, 2.0, 0.0, ...</td>\n",
              "      <td>3.0</td>\n",
              "      <td>11.726114</td>\n",
              "    </tr>\n",
              "    <tr>\n",
              "      <th>20165</th>\n",
              "      <td>610</td>\n",
              "      <td>161582</td>\n",
              "      <td>[7.38967136, 7.8490566, 7.34210526, 7.44984802...</td>\n",
              "      <td>[0.0, 0.0, 0.0, 0.0, 0.0, 0.0, 2.0, 0.0, 2.0, ...</td>\n",
              "      <td>4.0</td>\n",
              "      <td>11.335023</td>\n",
              "    </tr>\n",
              "    <tr>\n",
              "      <th>20166</th>\n",
              "      <td>610</td>\n",
              "      <td>162350</td>\n",
              "      <td>[7.38967136, 7.8490566, 7.34210526, 7.44984802...</td>\n",
              "      <td>[0.0, 0.0, 0.0, 0.0, 0.0, 0.0, 0.0, 2.0, 0.0, ...</td>\n",
              "      <td>3.5</td>\n",
              "      <td>11.036977</td>\n",
              "    </tr>\n",
              "    <tr>\n",
              "      <th>20167</th>\n",
              "      <td>610</td>\n",
              "      <td>163981</td>\n",
              "      <td>[7.38967136, 7.8490566, 7.34210526, 7.44984802...</td>\n",
              "      <td>[0.0, 0.0, 0.0, 0.0, 0.0, 0.0, 0.0, 0.0, 0.0, ...</td>\n",
              "      <td>3.5</td>\n",
              "      <td>8.701610</td>\n",
              "    </tr>\n",
              "  </tbody>\n",
              "</table>\n",
              "<p>20168 rows × 6 columns</p>\n",
              "</div>"
            ],
            "text/plain": [
              "      userId movieId                                        user_vector  \\\n",
              "0          1       3  [8.78378378, 9.30434782, 8.97142858, 8.5352112...   \n",
              "1          1     163  [8.78378378, 9.30434782, 8.97142858, 8.5352112...   \n",
              "2          1     316  [8.78378378, 9.30434782, 8.97142858, 8.5352112...   \n",
              "3          1     349  [8.78378378, 9.30434782, 8.97142858, 8.5352112...   \n",
              "4          1     441  [8.78378378, 9.30434782, 8.97142858, 8.5352112...   \n",
              "...      ...     ...                                                ...   \n",
              "20163    610  156726  [7.38967136, 7.8490566, 7.34210526, 7.44984802...   \n",
              "20164    610  159093  [7.38967136, 7.8490566, 7.34210526, 7.44984802...   \n",
              "20165    610  161582  [7.38967136, 7.8490566, 7.34210526, 7.44984802...   \n",
              "20166    610  162350  [7.38967136, 7.8490566, 7.34210526, 7.44984802...   \n",
              "20167    610  163981  [7.38967136, 7.8490566, 7.34210526, 7.44984802...   \n",
              "\n",
              "                                            movie_vector  og_rating  \\\n",
              "0      [0.0, 0.0, 0.0, 2.0, 0.0, 2.0, 0.0, 0.0, 0.0, ...        4.0   \n",
              "1      [0.0, 0.0, 0.0, 0.0, 0.0, 2.0, 0.0, 2.0, 0.0, ...        5.0   \n",
              "2      [2.0, 0.0, 0.0, 0.0, 0.0, 0.0, 0.0, 2.0, 0.0, ...        3.0   \n",
              "3      [0.0, 0.0, 0.0, 0.0, 0.0, 0.0, 2.0, 2.0, 2.0, ...        4.0   \n",
              "4      [0.0, 0.0, 0.0, 2.0, 0.0, 0.0, 0.0, 0.0, 0.0, ...        4.0   \n",
              "...                                                  ...        ...   \n",
              "20163  [0.0, 0.0, 0.0, 0.0, 0.0, 0.0, 0.0, 0.0, 0.0, ...        4.5   \n",
              "20164  [0.0, 0.0, 0.0, 2.0, 0.0, 0.0, 0.0, 2.0, 0.0, ...        3.0   \n",
              "20165  [0.0, 0.0, 0.0, 0.0, 0.0, 0.0, 2.0, 0.0, 2.0, ...        4.0   \n",
              "20166  [0.0, 0.0, 0.0, 0.0, 0.0, 0.0, 0.0, 2.0, 0.0, ...        3.5   \n",
              "20167  [0.0, 0.0, 0.0, 0.0, 0.0, 0.0, 0.0, 0.0, 0.0, ...        3.5   \n",
              "\n",
              "       pred_rating  \n",
              "0        12.892161  \n",
              "1        14.134848  \n",
              "2        13.986955  \n",
              "3        14.707133  \n",
              "4        10.671575  \n",
              "...            ...  \n",
              "20163     8.852847  \n",
              "20164    11.726114  \n",
              "20165    11.335023  \n",
              "20166    11.036977  \n",
              "20167     8.701610  \n",
              "\n",
              "[20168 rows x 6 columns]"
            ]
          },
          "metadata": {
            "tags": []
          },
          "execution_count": 14
        }
      ]
    },
    {
      "cell_type": "code",
      "metadata": {
        "id": "wzJucPlCLw55",
        "colab_type": "code",
        "colab": {}
      },
      "source": [
        "# algo_predictions.to_csv(\"genre_era_predictions.csv\")"
      ],
      "execution_count": null,
      "outputs": []
    },
    {
      "cell_type": "code",
      "metadata": {
        "scrolled": true,
        "id": "xnnjyw58Lw57",
        "colab_type": "code",
        "colab": {},
        "outputId": "67264ae5-6d78-4260-cef3-992bcdb1eed7"
      },
      "source": [
        "rmse = ((algo_predictions.og_rating - algo_predictions.pred_rating/3) ** 2).mean() ** .5\n",
        "rmse"
      ],
      "execution_count": null,
      "outputs": [
        {
          "output_type": "execute_result",
          "data": {
            "text/plain": [
              "0.9898749125266205"
            ]
          },
          "metadata": {
            "tags": []
          },
          "execution_count": 16
        }
      ]
    },
    {
      "cell_type": "code",
      "metadata": {
        "id": "wDfACdMsLw59",
        "colab_type": "code",
        "colab": {},
        "outputId": "b46389e7-6071-4f44-be9b-3731cf8fa46a"
      },
      "source": [
        "mae = (((algo_predictions.og_rating - algo_predictions.pred_rating/3) ** 2) ** .5).mean()\n",
        "mae"
      ],
      "execution_count": null,
      "outputs": [
        {
          "output_type": "execute_result",
          "data": {
            "text/plain": [
              "0.7651172008808977"
            ]
          },
          "metadata": {
            "tags": []
          },
          "execution_count": 17
        }
      ]
    },
    {
      "cell_type": "code",
      "metadata": {
        "id": "KQj2WqJZLw6A",
        "colab_type": "code",
        "colab": {}
      },
      "source": [
        ""
      ],
      "execution_count": null,
      "outputs": []
    }
  ]
}