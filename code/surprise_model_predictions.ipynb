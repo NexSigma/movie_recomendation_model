{
  "nbformat": 4,
  "nbformat_minor": 0,
  "metadata": {
    "colab": {
      "name": "surprise_model_predictions.ipynb",
      "provenance": [],
      "collapsed_sections": []
    },
    "kernelspec": {
      "name": "python3",
      "display_name": "Python 3"
    }
  },
  "cells": [
    {
      "cell_type": "code",
      "metadata": {
        "id": "fi8oBmWXD1rA",
        "colab_type": "code",
        "colab": {
          "base_uri": "https://localhost:8080/",
          "height": 118
        },
        "outputId": "d86444ed-d23b-4e76-b327-9d766fd375f4"
      },
      "source": [
        "!pip install surprise"
      ],
      "execution_count": null,
      "outputs": [
        {
          "output_type": "stream",
          "text": [
            "Requirement already satisfied: surprise in /usr/local/lib/python3.6/dist-packages (0.1)\n",
            "Requirement already satisfied: scikit-surprise in /usr/local/lib/python3.6/dist-packages (from surprise) (1.1.0)\n",
            "Requirement already satisfied: six>=1.10.0 in /usr/local/lib/python3.6/dist-packages (from scikit-surprise->surprise) (1.12.0)\n",
            "Requirement already satisfied: joblib>=0.11 in /usr/local/lib/python3.6/dist-packages (from scikit-surprise->surprise) (0.14.1)\n",
            "Requirement already satisfied: numpy>=1.11.2 in /usr/local/lib/python3.6/dist-packages (from scikit-surprise->surprise) (1.18.2)\n",
            "Requirement already satisfied: scipy>=1.0.0 in /usr/local/lib/python3.6/dist-packages (from scikit-surprise->surprise) (1.4.1)\n"
          ],
          "name": "stdout"
        }
      ]
    },
    {
      "cell_type": "code",
      "metadata": {
        "id": "J9FfIKsk0bDJ",
        "colab_type": "code",
        "colab": {}
      },
      "source": [
        "from surprise import SVD, BaselineOnly, SVDpp, NMF, SlopeOne, CoClustering, Reader\n",
        "from surprise import Dataset\n",
        "from surprise.model_selection import cross_validate\n",
        "from surprise.prediction_algorithms import KNNBaseline, KNNBasic, KNNWithMeans, KNNWithZScore\n",
        "from surprise import accuracy\n",
        "from surprise.model_selection import train_test_split"
      ],
      "execution_count": null,
      "outputs": []
    },
    {
      "cell_type": "code",
      "metadata": {
        "id": "mCZrwlMiOZPg",
        "colab_type": "code",
        "colab": {}
      },
      "source": [
        "import pandas as pd\n",
        "import numpy as np"
      ],
      "execution_count": null,
      "outputs": []
    },
    {
      "cell_type": "code",
      "metadata": {
        "id": "olgICu7ZYyM7",
        "colab_type": "code",
        "colab": {
          "base_uri": "https://localhost:8080/",
          "height": 67
        },
        "outputId": "1c8bb714-5fe1-497a-9344-130c4fbb91ef"
      },
      "source": [
        "# Load the movielens-1M dataset\n",
        "data = Dataset.load_builtin('ml-1m')"
      ],
      "execution_count": null,
      "outputs": [
        {
          "output_type": "stream",
          "text": [
            "Dataset ml-1m could not be found. Do you want to download it? [Y/n] y\n",
            "Trying to download dataset from http://files.grouplens.org/datasets/movielens/ml-1m.zip...\n",
            "Done! Dataset ml-1m has been saved to /root/.surprise_data/ml-1m\n"
          ],
          "name": "stdout"
        }
      ]
    },
    {
      "cell_type": "code",
      "metadata": {
        "id": "DnLayS6VaXZL",
        "colab_type": "code",
        "colab": {}
      },
      "source": [
        "# sample random trainset and testset\n",
        "# test set is made of 20% of the ratings.\n",
        "trainset, testset = train_test_split(data, test_size=.20)"
      ],
      "execution_count": null,
      "outputs": []
    },
    {
      "cell_type": "code",
      "metadata": {
        "id": "AC2Mt8xUyccA",
        "colab_type": "code",
        "colab": {}
      },
      "source": [
        "def convert_traintest_dataframe_forsurprise(training_dataframe, testing_dataframe):\n",
        "    reader = Reader(rating_scale=(0, 5))\n",
        "    trainset = Dataset.load_from_df(training_dataframe[['userId', 'movieId', 'rating']], reader)\n",
        "    testset = Dataset.load_from_df(testing_dataframe[['userId', 'movieId', 'rating']], reader)\n",
        "    trainset = trainset.construct_trainset(trainset.raw_ratings)\n",
        "    testset = testset.construct_testset(testset.raw_ratings)\n",
        "    return trainset, testset"
      ],
      "execution_count": null,
      "outputs": []
    },
    {
      "cell_type": "code",
      "metadata": {
        "id": "dHBcLq3eyi0T",
        "colab_type": "code",
        "colab": {}
      },
      "source": [
        "file_path_train = 'training_data.csv'\n",
        "file_path_test = 'testing_data.csv'\n",
        "traindf = pd.read_csv(file_path_train)\n",
        "testdf = pd.read_csv(file_path_test)\n",
        "trainset, testset = convert_traintest_dataframe_forsurprise(traindf, testdf)"
      ],
      "execution_count": null,
      "outputs": []
    },
    {
      "cell_type": "code",
      "metadata": {
        "id": "AlitWSrNb2wZ",
        "colab_type": "code",
        "colab": {}
      },
      "source": [
        "def recommendation(algo, trainset, testset):\n",
        "  # Train the algorithm on the trainset, and predict ratings for the testset\n",
        "  algo.fit(trainset)\n",
        "\n",
        "  # Predictions on testing set\n",
        "  test_predictions = algo.test(testset)\n",
        "  test_rmse = accuracy.rmse(test_predictions)\n",
        "  test_mae = accuracy.mae(test_predictions)\n",
        "  \n",
        "  return test_rmse, test_mae, test_predictions"
      ],
      "execution_count": null,
      "outputs": []
    },
    {
      "cell_type": "code",
      "metadata": {
        "id": "9ZblN_7unqoU",
        "colab_type": "code",
        "colab": {}
      },
      "source": [
        "# results = cross_validate(SVD(), data, measures=['RMSE', 'MAE'], cv=5, verbose=False)"
      ],
      "execution_count": null,
      "outputs": []
    },
    {
      "cell_type": "markdown",
      "metadata": {
        "id": "Iv9GSCQx24RI",
        "colab_type": "text"
      },
      "source": [
        "#### Experimenting"
      ]
    },
    {
      "cell_type": "code",
      "metadata": {
        "id": "E777XIBI26SQ",
        "colab_type": "code",
        "colab": {
          "base_uri": "https://localhost:8080/",
          "height": 84
        },
        "outputId": "b5629514-2562-4eda-b44f-67cfbfa18a8a"
      },
      "source": [
        "print('Using ALS')\n",
        "bsl_options = {'method': 'als',\n",
        "               'n_epochs': 5,\n",
        "               'reg_u': 12,\n",
        "               'reg_i': 5\n",
        "               }\n",
        "algo = BaselineOnly(bsl_options=bsl_options)\n",
        "test_rmse, test_mae, test_pred = recommendation(algo, trainset, testset)"
      ],
      "execution_count": null,
      "outputs": [
        {
          "output_type": "stream",
          "text": [
            "Using ALS\n",
            "Estimating biases using als...\n",
            "RMSE: 0.8677\n",
            "MAE:  0.6659\n"
          ],
          "name": "stdout"
        }
      ]
    },
    {
      "cell_type": "code",
      "metadata": {
        "id": "luHqcF-H30jl",
        "colab_type": "code",
        "colab": {
          "base_uri": "https://localhost:8080/",
          "height": 84
        },
        "outputId": "a96a611a-eab4-49ee-e34d-c99c847b584f"
      },
      "source": [
        "print('Using SGD')\n",
        "# bsl_options = {'method': 'sgd',\n",
        "#                'learning_rate': .00005,\n",
        "#                }\n",
        "algo = BaselineOnly()  # bsl_options=bsl_options\n",
        "test_rmse, test_mae, test_pred = recommendation(algo, trainset, testset)"
      ],
      "execution_count": null,
      "outputs": [
        {
          "output_type": "stream",
          "text": [
            "Using SGD\n",
            "Estimating biases using als...\n",
            "RMSE: 0.8735\n",
            "MAE:  0.6718\n"
          ],
          "name": "stdout"
        }
      ]
    },
    {
      "cell_type": "markdown",
      "metadata": {
        "id": "gBCl6LOoBPgQ",
        "colab_type": "text"
      },
      "source": [
        "##### Calculating predictions for the top methods:"
      ]
    },
    {
      "cell_type": "code",
      "metadata": {
        "id": "KuTTB-6Th8ZN",
        "colab_type": "code",
        "colab": {
          "base_uri": "https://localhost:8080/",
          "height": 101
        },
        "outputId": "a202ac5a-0dc8-4a9b-9349-847ce601c9fc"
      },
      "source": [
        "# KNNBaseline\n",
        "\n",
        "algo = KNNBaseline()\n",
        "test_knn_rmse, test_knn_mae, test_knn_pred = recommendation(algo, trainset, testset)"
      ],
      "execution_count": null,
      "outputs": [
        {
          "output_type": "stream",
          "text": [
            "Estimating biases using als...\n",
            "Computing the msd similarity matrix...\n",
            "Done computing similarity matrix.\n",
            "RMSE: 0.8763\n",
            "MAE:  0.6660\n"
          ],
          "name": "stdout"
        }
      ]
    },
    {
      "cell_type": "code",
      "metadata": {
        "id": "ndRC8sVBBoje",
        "colab_type": "code",
        "colab": {
          "base_uri": "https://localhost:8080/",
          "height": 50
        },
        "outputId": "8f1c4945-631c-4a2c-e7ef-92a13db48983"
      },
      "source": [
        "# SlopeOne\n",
        "\n",
        "algo = SlopeOne()\n",
        "test_slopeone_rmse, test_slopeone_mae, test_slopeone_pred = recommendation(algo, trainset, testset)"
      ],
      "execution_count": null,
      "outputs": [
        {
          "output_type": "stream",
          "text": [
            "RMSE: 0.9070\n",
            "MAE:  0.7145\n"
          ],
          "name": "stdout"
        }
      ]
    },
    {
      "cell_type": "code",
      "metadata": {
        "id": "INAgGkTFBxlT",
        "colab_type": "code",
        "colab": {
          "base_uri": "https://localhost:8080/",
          "height": 50
        },
        "outputId": "0e9a390a-e87d-4f55-a97e-6284f7348074"
      },
      "source": [
        "# SVD\n",
        "\n",
        "algo = SVD()\n",
        "test_svd_rmse, test_svd_mae, test_svd_pred  = recommendation(algo, trainset, testset)"
      ],
      "execution_count": null,
      "outputs": [
        {
          "output_type": "stream",
          "text": [
            "RMSE: 0.8743\n",
            "MAE:  0.6858\n"
          ],
          "name": "stdout"
        }
      ]
    },
    {
      "cell_type": "code",
      "metadata": {
        "id": "uJCkdey1B02t",
        "colab_type": "code",
        "colab": {
          "base_uri": "https://localhost:8080/",
          "height": 50
        },
        "outputId": "662ecf2e-f6b3-4f46-d55e-40c825c9009b"
      },
      "source": [
        "# SVDpp\n",
        "\n",
        "algo = SVDpp()\n",
        "test_svdpp_rmse, test_svdpp_mae, test_svdpp_pred = recommendation(algo, trainset, testset)"
      ],
      "execution_count": null,
      "outputs": [
        {
          "output_type": "stream",
          "text": [
            "RMSE: 0.8697\n",
            "MAE:  0.6643\n"
          ],
          "name": "stdout"
        }
      ]
    },
    {
      "cell_type": "code",
      "metadata": {
        "id": "nprC9tRcymxk",
        "colab_type": "code",
        "colab": {
          "base_uri": "https://localhost:8080/",
          "height": 67
        },
        "outputId": "8b64d3ec-8a8b-4963-8a0f-54ef0ae090c4"
      },
      "source": [
        "# BaselineOnly()\n",
        "\n",
        "algo = BaselineOnly()\n",
        "test_base_rmse, test_base_mae, test_base_pred  = recommendation(algo, trainset, testset)"
      ],
      "execution_count": null,
      "outputs": [
        {
          "output_type": "stream",
          "text": [
            "Estimating biases using als...\n",
            "RMSE: 0.8735\n",
            "MAE:  0.6718\n"
          ],
          "name": "stdout"
        }
      ]
    },
    {
      "cell_type": "code",
      "metadata": {
        "id": "5OqtsT-5MPAh",
        "colab_type": "code",
        "colab": {}
      },
      "source": [
        "test_pred_df = pd.DataFrame(columns= ['uid', 'iid', 'og_rating', 'svd_rating', 'knn_rating', 'svdpp_rating', 'slopeone_rating', 'baseline_rating'])"
      ],
      "execution_count": null,
      "outputs": []
    },
    {
      "cell_type": "code",
      "metadata": {
        "id": "ExyS3zHlzxsP",
        "colab_type": "code",
        "colab": {
          "base_uri": "https://localhost:8080/",
          "height": 34
        },
        "outputId": "3e7f502e-2286-4806-cf93-217aa64a4b08"
      },
      "source": [
        "num_test = len(test_base_pred)\n",
        "print(num_test)"
      ],
      "execution_count": null,
      "outputs": [
        {
          "output_type": "stream",
          "text": [
            "200042\n"
          ],
          "name": "stdout"
        }
      ]
    },
    {
      "cell_type": "markdown",
      "metadata": {
        "id": "qHYtUbMyrOA9",
        "colab_type": "text"
      },
      "source": [
        "##### Storing testing set predictions:"
      ]
    },
    {
      "cell_type": "code",
      "metadata": {
        "id": "YSPLXRAgzfka",
        "colab_type": "code",
        "colab": {}
      },
      "source": [
        "for i in range(num_test): \n",
        "  svd = test_svd_pred[i]\n",
        "  slopeone = test_slopeone_pred[i]\n",
        "  knn = test_knn_pred[i]\n",
        "  svdpp = test_svdpp_pred[i]\n",
        "  baseline = test_base_pred[i]\n",
        "  df = pd.DataFrame([[svd.uid, svd.iid, svd.r_ui, svd.est, knn.est, svdpp.est, slopeone.est, baseline.est]], columns=['uid', 'iid', 'og_rating', 'svd_rating', 'knn_rating', 'svdpp_rating', 'slopeone_rating','baseline_rating'])\n",
        "  # print(df)\n",
        "  test_pred_df = pd.concat([df, test_pred_df], ignore_index=True)"
      ],
      "execution_count": null,
      "outputs": []
    },
    {
      "cell_type": "code",
      "metadata": {
        "id": "fJdb0S-A5PiX",
        "colab_type": "code",
        "colab": {
          "base_uri": "https://localhost:8080/",
          "height": 402
        },
        "outputId": "7e1bbd47-57f4-464e-ea62-95cda20ad0b5"
      },
      "source": [
        "test_pred_df"
      ],
      "execution_count": null,
      "outputs": [
        {
          "output_type": "execute_result",
          "data": {
            "text/html": [
              "<div>\n",
              "<style scoped>\n",
              "    .dataframe tbody tr th:only-of-type {\n",
              "        vertical-align: middle;\n",
              "    }\n",
              "\n",
              "    .dataframe tbody tr th {\n",
              "        vertical-align: top;\n",
              "    }\n",
              "\n",
              "    .dataframe thead th {\n",
              "        text-align: right;\n",
              "    }\n",
              "</style>\n",
              "<table border=\"1\" class=\"dataframe\">\n",
              "  <thead>\n",
              "    <tr style=\"text-align: right;\">\n",
              "      <th></th>\n",
              "      <th>uid</th>\n",
              "      <th>iid</th>\n",
              "      <th>og_rating</th>\n",
              "      <th>svd_rating</th>\n",
              "      <th>knn_rating</th>\n",
              "      <th>svdpp_rating</th>\n",
              "      <th>slopeone_rating</th>\n",
              "      <th>baseline_rating</th>\n",
              "    </tr>\n",
              "  </thead>\n",
              "  <tbody>\n",
              "    <tr>\n",
              "      <th>0</th>\n",
              "      <td>695</td>\n",
              "      <td>2791</td>\n",
              "      <td>4.0</td>\n",
              "      <td>3.507685</td>\n",
              "      <td>3.815840</td>\n",
              "      <td>3.936685</td>\n",
              "      <td>4.240711</td>\n",
              "      <td>4.146045</td>\n",
              "    </tr>\n",
              "    <tr>\n",
              "      <th>1</th>\n",
              "      <td>6016</td>\n",
              "      <td>3668</td>\n",
              "      <td>3.0</td>\n",
              "      <td>3.404877</td>\n",
              "      <td>3.557922</td>\n",
              "      <td>3.658979</td>\n",
              "      <td>3.390132</td>\n",
              "      <td>3.442060</td>\n",
              "    </tr>\n",
              "    <tr>\n",
              "      <th>2</th>\n",
              "      <td>5482</td>\n",
              "      <td>1221</td>\n",
              "      <td>5.0</td>\n",
              "      <td>4.622452</td>\n",
              "      <td>4.491665</td>\n",
              "      <td>4.451363</td>\n",
              "      <td>4.669042</td>\n",
              "      <td>4.554867</td>\n",
              "    </tr>\n",
              "    <tr>\n",
              "      <th>3</th>\n",
              "      <td>3389</td>\n",
              "      <td>2959</td>\n",
              "      <td>4.0</td>\n",
              "      <td>3.899992</td>\n",
              "      <td>3.217574</td>\n",
              "      <td>4.235280</td>\n",
              "      <td>3.559392</td>\n",
              "      <td>3.450094</td>\n",
              "    </tr>\n",
              "    <tr>\n",
              "      <th>4</th>\n",
              "      <td>4303</td>\n",
              "      <td>608</td>\n",
              "      <td>4.0</td>\n",
              "      <td>4.093749</td>\n",
              "      <td>4.250497</td>\n",
              "      <td>4.757454</td>\n",
              "      <td>4.282707</td>\n",
              "      <td>4.180708</td>\n",
              "    </tr>\n",
              "    <tr>\n",
              "      <th>...</th>\n",
              "      <td>...</td>\n",
              "      <td>...</td>\n",
              "      <td>...</td>\n",
              "      <td>...</td>\n",
              "      <td>...</td>\n",
              "      <td>...</td>\n",
              "      <td>...</td>\n",
              "      <td>...</td>\n",
              "    </tr>\n",
              "    <tr>\n",
              "      <th>200037</th>\n",
              "      <td>1447</td>\n",
              "      <td>3412</td>\n",
              "      <td>4.0</td>\n",
              "      <td>2.678937</td>\n",
              "      <td>3.412608</td>\n",
              "      <td>3.309891</td>\n",
              "      <td>3.192129</td>\n",
              "      <td>3.238168</td>\n",
              "    </tr>\n",
              "    <tr>\n",
              "      <th>200038</th>\n",
              "      <td>301</td>\n",
              "      <td>3396</td>\n",
              "      <td>4.0</td>\n",
              "      <td>4.292583</td>\n",
              "      <td>4.228340</td>\n",
              "      <td>4.594647</td>\n",
              "      <td>4.128157</td>\n",
              "      <td>4.114891</td>\n",
              "    </tr>\n",
              "    <tr>\n",
              "      <th>200039</th>\n",
              "      <td>984</td>\n",
              "      <td>3927</td>\n",
              "      <td>3.0</td>\n",
              "      <td>3.537646</td>\n",
              "      <td>3.446079</td>\n",
              "      <td>3.486974</td>\n",
              "      <td>3.514210</td>\n",
              "      <td>3.475889</td>\n",
              "    </tr>\n",
              "    <tr>\n",
              "      <th>200040</th>\n",
              "      <td>4672</td>\n",
              "      <td>2369</td>\n",
              "      <td>4.0</td>\n",
              "      <td>2.638634</td>\n",
              "      <td>2.882440</td>\n",
              "      <td>2.676785</td>\n",
              "      <td>2.742415</td>\n",
              "      <td>2.817915</td>\n",
              "    </tr>\n",
              "    <tr>\n",
              "      <th>200041</th>\n",
              "      <td>5234</td>\n",
              "      <td>3556</td>\n",
              "      <td>5.0</td>\n",
              "      <td>3.970203</td>\n",
              "      <td>3.656631</td>\n",
              "      <td>3.988456</td>\n",
              "      <td>3.779991</td>\n",
              "      <td>3.712596</td>\n",
              "    </tr>\n",
              "  </tbody>\n",
              "</table>\n",
              "<p>200042 rows × 8 columns</p>\n",
              "</div>"
            ],
            "text/plain": [
              "         uid   iid  og_rating  ...  svdpp_rating  slopeone_rating  baseline_rating\n",
              "0        695  2791        4.0  ...      3.936685         4.240711         4.146045\n",
              "1       6016  3668        3.0  ...      3.658979         3.390132         3.442060\n",
              "2       5482  1221        5.0  ...      4.451363         4.669042         4.554867\n",
              "3       3389  2959        4.0  ...      4.235280         3.559392         3.450094\n",
              "4       4303   608        4.0  ...      4.757454         4.282707         4.180708\n",
              "...      ...   ...        ...  ...           ...              ...              ...\n",
              "200037  1447  3412        4.0  ...      3.309891         3.192129         3.238168\n",
              "200038   301  3396        4.0  ...      4.594647         4.128157         4.114891\n",
              "200039   984  3927        3.0  ...      3.486974         3.514210         3.475889\n",
              "200040  4672  2369        4.0  ...      2.676785         2.742415         2.817915\n",
              "200041  5234  3556        5.0  ...      3.988456         3.779991         3.712596\n",
              "\n",
              "[200042 rows x 8 columns]"
            ]
          },
          "metadata": {
            "tags": []
          },
          "execution_count": 20
        }
      ]
    },
    {
      "cell_type": "code",
      "metadata": {
        "id": "tSwp06K6JClS",
        "colab_type": "code",
        "colab": {}
      },
      "source": [
        "test_pred_df.to_csv('test_prediction.csv')"
      ],
      "execution_count": null,
      "outputs": []
    }
  ]
}