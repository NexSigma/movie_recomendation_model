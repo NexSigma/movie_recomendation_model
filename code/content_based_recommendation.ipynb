{
  "nbformat": 4,
  "nbformat_minor": 0,
  "metadata": {
    "kernelspec": {
      "display_name": "Python 3",
      "language": "python",
      "name": "python3"
    },
    "language_info": {
      "codemirror_mode": {
        "name": "ipython",
        "version": 3
      },
      "file_extension": ".py",
      "mimetype": "text/x-python",
      "name": "python",
      "nbconvert_exporter": "python",
      "pygments_lexer": "ipython3",
      "version": "3.7.6"
    },
    "colab": {
      "name": "content_based_recommendation.ipynb",
      "provenance": [],
      "collapsed_sections": []
    }
  },
  "cells": [
    {
      "cell_type": "markdown",
      "metadata": {
        "id": "pEDQblEbFMFP",
        "colab_type": "text"
      },
      "source": [
        "This method explores the genre and rating associated with the movie and the customer to develop customer vector based on the content. The recommendations are generated using this customer vector."
      ]
    },
    {
      "cell_type": "code",
      "metadata": {
        "scrolled": true,
        "id": "3EdPIM8gE75h",
        "colab_type": "code",
        "colab": {}
      },
      "source": [
        "import numpy as np\n",
        "import pandas as pd\n",
        "import matplotlib.pyplot as plt\n",
        "from ast import literal_eval"
      ],
      "execution_count": null,
      "outputs": []
    },
    {
      "cell_type": "code",
      "metadata": {
        "id": "-0I2fW5_E75j",
        "colab_type": "code",
        "colab": {}
      },
      "source": [
        "# Load movies data\n",
        "movies = pd.read_csv(\"movies.csv\", converters={\"genres\": literal_eval})"
      ],
      "execution_count": null,
      "outputs": []
    },
    {
      "cell_type": "code",
      "metadata": {
        "id": "DMKuwncvE75m",
        "colab_type": "code",
        "colab": {}
      },
      "source": [
        "# Load the training data\n",
        "ratings_train = pd.read_csv(\"training_data.csv\", converters={\"genres\": literal_eval, \"tag\": literal_eval})\n",
        "\n",
        "# ratings_train.head()"
      ],
      "execution_count": null,
      "outputs": []
    },
    {
      "cell_type": "code",
      "metadata": {
        "scrolled": false,
        "id": "pCjakau0E75o",
        "colab_type": "code",
        "colab": {},
        "outputId": "c3abde85-c349-4726-db4a-87a2ac8ba259"
      },
      "source": [
        "# Get unique genres from the data\n",
        "unique_genre = movies['genres'].explode().unique()\n",
        "\n",
        "# Get the count of each genre\n",
        "genre_distribution = ratings_train['genres'].explode().value_counts()\n",
        "\n",
        "# Make a dict assigning an index to a genre\n",
        "genre_dict = {k: v for v, k in enumerate(unique_genre)}\n",
        "genre_dict"
      ],
      "execution_count": null,
      "outputs": [
        {
          "output_type": "execute_result",
          "data": {
            "text/plain": [
              "{'Adventure': 0,\n",
              " 'Animation': 1,\n",
              " 'Children': 2,\n",
              " 'Comedy': 3,\n",
              " 'Fantasy': 4,\n",
              " 'Romance': 5,\n",
              " 'Drama': 6,\n",
              " 'Action': 7,\n",
              " 'Crime': 8,\n",
              " 'Thriller': 9,\n",
              " 'Horror': 10,\n",
              " 'Mystery': 11,\n",
              " 'Sci-Fi': 12,\n",
              " 'War': 13,\n",
              " 'Musical': 14,\n",
              " 'Documentary': 15,\n",
              " 'IMAX': 16,\n",
              " 'Western': 17,\n",
              " 'Film-Noir': 18,\n",
              " '(no genres listed)': 19}"
            ]
          },
          "metadata": {
            "tags": []
          },
          "execution_count": 5
        }
      ]
    },
    {
      "cell_type": "code",
      "metadata": {
        "id": "0HXrmzdaE75r",
        "colab_type": "code",
        "colab": {},
        "outputId": "b398e82a-6484-4834-e85a-a0d76bee07e6"
      },
      "source": [
        "# import plotly.express as px \n",
        "# fig = px.pie(genre_distribution, values = genre_distribution.values, names = genre_distribution.keys(), \n",
        "#              title='Genre distribution') \n",
        "# fig.show()\n",
        "plt.pie(genre_distribution.values, labels = genre_distribution.keys())\n",
        "plt.show()"
      ],
      "execution_count": null,
      "outputs": [
        {
          "output_type": "display_data",
          "data": {
            "image/png": "[encoded data removed]",
            "text/plain": [
              "<Figure size 432x288 with 1 Axes>"
            ]
          },
          "metadata": {
            "tags": []
          }
        }
      ]
    },
    {
      "cell_type": "code",
      "metadata": {
        "id": "coJkaswtE75t",
        "colab_type": "code",
        "colab": {}
      },
      "source": [
        "# SLOW Code -- use skleatrn instead of this (in the next cell)\n",
        "\n",
        "# # Creating a column per genre \n",
        "# df = ratings_train['genres'].apply(frozenset).to_frame(name='genre')\n",
        "# for genre in frozenset.union(*df.genre):\n",
        "#     df[genre] = df.apply(lambda _: int(genre in _.genre), axis=1)\n",
        "    \n",
        "# df.head()"
      ],
      "execution_count": null,
      "outputs": []
    },
    {
      "cell_type": "code",
      "metadata": {
        "id": "TOVCdlNfE75w",
        "colab_type": "code",
        "colab": {}
      },
      "source": [
        "# This is not needed now\n",
        "\n",
        "# from sklearn.preprocessing import MultiLabelBinarizer\n",
        "\n",
        "# # Binarise labels\n",
        "# mlb = MultiLabelBinarizer()\n",
        "# expandedLabelData = mlb.fit_transform(ratings_train[\"genres\"])\n",
        "# labelClasses = mlb.classes_\n",
        "\n",
        "# # Create a pandas.DataFrame from our output\n",
        "# expandedLabels = pd.DataFrame(expandedLabelData, columns=labelClasses)\n",
        "\n",
        "# # # View the data\n",
        "# # expandedLabels.head()\n",
        "\n",
        "# ratings_movie_genre = pd.concat([ratings_train, expandedLabels], axis=1)\n",
        "# ratings_movie_genre.head()"
      ],
      "execution_count": null,
      "outputs": []
    },
    {
      "cell_type": "code",
      "metadata": {
        "id": "_G9Om5kLE75y",
        "colab_type": "code",
        "colab": {}
      },
      "source": [
        "movies['movie_vector'] = \"\"\n",
        "for ind, row in movies.iterrows():\n",
        "    genres = row.genres\n",
        "    movie_vector = np.zeros(len(genre_dict))\n",
        "\n",
        "    for g in genres:\n",
        "        movie_vector[genre_dict[g]] = 1\n",
        "    movies.at[ind, 'movie_vector'] = movie_vector\n",
        "\n",
        "# Save the final dataframe\n",
        "movies.to_csv(\"movie_vector.csv\")"
      ],
      "execution_count": null,
      "outputs": []
    },
    {
      "cell_type": "code",
      "metadata": {
        "scrolled": true,
        "id": "noGaua-YE750",
        "colab_type": "code",
        "colab": {},
        "outputId": "32a50a7c-3551-444a-bbd0-93b90a0da6dd"
      },
      "source": [
        "movies.head()"
      ],
      "execution_count": null,
      "outputs": [
        {
          "output_type": "execute_result",
          "data": {
            "text/html": [
              "<div>\n",
              "<style scoped>\n",
              "    .dataframe tbody tr th:only-of-type {\n",
              "        vertical-align: middle;\n",
              "    }\n",
              "\n",
              "    .dataframe tbody tr th {\n",
              "        vertical-align: top;\n",
              "    }\n",
              "\n",
              "    .dataframe thead th {\n",
              "        text-align: right;\n",
              "    }\n",
              "</style>\n",
              "<table border=\"1\" class=\"dataframe\">\n",
              "  <thead>\n",
              "    <tr style=\"text-align: right;\">\n",
              "      <th></th>\n",
              "      <th>movieId</th>\n",
              "      <th>title</th>\n",
              "      <th>genres</th>\n",
              "      <th>movie_vector</th>\n",
              "    </tr>\n",
              "  </thead>\n",
              "  <tbody>\n",
              "    <tr>\n",
              "      <th>0</th>\n",
              "      <td>1</td>\n",
              "      <td>Toy Story (1995)</td>\n",
              "      <td>[Adventure, Animation, Children, Comedy, Fantasy]</td>\n",
              "      <td>[1.0, 1.0, 1.0, 1.0, 1.0, 0.0, 0.0, 0.0, 0.0, ...</td>\n",
              "    </tr>\n",
              "    <tr>\n",
              "      <th>1</th>\n",
              "      <td>2</td>\n",
              "      <td>Jumanji (1995)</td>\n",
              "      <td>[Adventure, Children, Fantasy]</td>\n",
              "      <td>[1.0, 0.0, 1.0, 0.0, 1.0, 0.0, 0.0, 0.0, 0.0, ...</td>\n",
              "    </tr>\n",
              "    <tr>\n",
              "      <th>2</th>\n",
              "      <td>3</td>\n",
              "      <td>Grumpier Old Men (1995)</td>\n",
              "      <td>[Comedy, Romance]</td>\n",
              "      <td>[0.0, 0.0, 0.0, 1.0, 0.0, 1.0, 0.0, 0.0, 0.0, ...</td>\n",
              "    </tr>\n",
              "    <tr>\n",
              "      <th>3</th>\n",
              "      <td>4</td>\n",
              "      <td>Waiting to Exhale (1995)</td>\n",
              "      <td>[Comedy, Drama, Romance]</td>\n",
              "      <td>[0.0, 0.0, 0.0, 1.0, 0.0, 1.0, 1.0, 0.0, 0.0, ...</td>\n",
              "    </tr>\n",
              "    <tr>\n",
              "      <th>4</th>\n",
              "      <td>5</td>\n",
              "      <td>Father of the Bride Part II (1995)</td>\n",
              "      <td>[Comedy]</td>\n",
              "      <td>[0.0, 0.0, 0.0, 1.0, 0.0, 0.0, 0.0, 0.0, 0.0, ...</td>\n",
              "    </tr>\n",
              "  </tbody>\n",
              "</table>\n",
              "</div>"
            ],
            "text/plain": [
              "   movieId                               title  \\\n",
              "0        1                    Toy Story (1995)   \n",
              "1        2                      Jumanji (1995)   \n",
              "2        3             Grumpier Old Men (1995)   \n",
              "3        4            Waiting to Exhale (1995)   \n",
              "4        5  Father of the Bride Part II (1995)   \n",
              "\n",
              "                                              genres  \\\n",
              "0  [Adventure, Animation, Children, Comedy, Fantasy]   \n",
              "1                     [Adventure, Children, Fantasy]   \n",
              "2                                  [Comedy, Romance]   \n",
              "3                           [Comedy, Drama, Romance]   \n",
              "4                                           [Comedy]   \n",
              "\n",
              "                                        movie_vector  \n",
              "0  [1.0, 1.0, 1.0, 1.0, 1.0, 0.0, 0.0, 0.0, 0.0, ...  \n",
              "1  [1.0, 0.0, 1.0, 0.0, 1.0, 0.0, 0.0, 0.0, 0.0, ...  \n",
              "2  [0.0, 0.0, 0.0, 1.0, 0.0, 1.0, 0.0, 0.0, 0.0, ...  \n",
              "3  [0.0, 0.0, 0.0, 1.0, 0.0, 1.0, 1.0, 0.0, 0.0, ...  \n",
              "4  [0.0, 0.0, 0.0, 1.0, 0.0, 0.0, 0.0, 0.0, 0.0, ...  "
            ]
          },
          "metadata": {
            "tags": []
          },
          "execution_count": 10
        }
      ]
    },
    {
      "cell_type": "code",
      "metadata": {
        "id": "MBpbLupqE752",
        "colab_type": "code",
        "colab": {}
      },
      "source": [
        "user_ids = ratings_train['userId'].unique()\n",
        "user_df = pd.DataFrame(columns=['userId', 'user_vector', 'avg_rating', 'num_movies_rated'])\n",
        "                       \n",
        "for user_id in user_ids:\n",
        "#     print(user_id)\n",
        "    user_rating_df = ratings_train[(ratings_train['userId'] == user_id)]\n",
        "#     print(user_rating_df)\n",
        "\n",
        "    user_vector = np.zeros(len(genre_dict))\n",
        "    count_vector = np.zeros(len(genre_dict))\n",
        "    \n",
        "    user_avg_rating = 0\n",
        "    movies_rated_count = 0\n",
        "    \n",
        "    for _, row in user_rating_df.iterrows():\n",
        "        user_avg_rating += row.rating \n",
        "        movies_rated_count += 1\n",
        "        genres = row.genres\n",
        "\n",
        "        user_movie_vector = np.zeros(len(genre_dict))\n",
        "        \n",
        "        for g in genres:\n",
        "            user_movie_vector[genre_dict[g]] = 1\n",
        "            count_vector[genre_dict[g]] += 1\n",
        "            \n",
        "        user_vector += user_movie_vector*row.rating\n",
        "\n",
        "    count_vector = np.where(count_vector==0, 1, count_vector)\n",
        "    user_vector = np.divide(user_vector, count_vector)\n",
        "    user_avg_rating /= movies_rated_count\n",
        "    row_df = pd.DataFrame([[user_id, user_vector, user_avg_rating, movies_rated_count]], \n",
        "                          columns=['userId', 'user_vector', 'avg_rating', 'num_movies_rated'])\n",
        "#     print(row_df)\n",
        "    user_df = pd.concat([user_df, row_df], ignore_index=True)"
      ],
      "execution_count": null,
      "outputs": []
    },
    {
      "cell_type": "code",
      "metadata": {
        "id": "a4HUlsrME754",
        "colab_type": "code",
        "colab": {}
      },
      "source": [
        "# Save the final dataframe\n",
        "user_df.to_csv(\"user_info.csv\")"
      ],
      "execution_count": null,
      "outputs": []
    },
    {
      "cell_type": "code",
      "metadata": {
        "id": "1Oxo_uJBE756",
        "colab_type": "code",
        "colab": {},
        "outputId": "90805676-9130-4c84-f84f-6b7b4bb971fe"
      },
      "source": [
        "user_df.head()"
      ],
      "execution_count": null,
      "outputs": [
        {
          "output_type": "execute_result",
          "data": {
            "text/html": [
              "<div>\n",
              "<style scoped>\n",
              "    .dataframe tbody tr th:only-of-type {\n",
              "        vertical-align: middle;\n",
              "    }\n",
              "\n",
              "    .dataframe tbody tr th {\n",
              "        vertical-align: top;\n",
              "    }\n",
              "\n",
              "    .dataframe thead th {\n",
              "        text-align: right;\n",
              "    }\n",
              "</style>\n",
              "<table border=\"1\" class=\"dataframe\">\n",
              "  <thead>\n",
              "    <tr style=\"text-align: right;\">\n",
              "      <th></th>\n",
              "      <th>userId</th>\n",
              "      <th>user_vector</th>\n",
              "      <th>avg_rating</th>\n",
              "      <th>num_movies_rated</th>\n",
              "    </tr>\n",
              "  </thead>\n",
              "  <tbody>\n",
              "    <tr>\n",
              "      <th>0</th>\n",
              "      <td>1</td>\n",
              "      <td>[4.391891891891892, 4.6521739130434785, 4.4857...</td>\n",
              "      <td>4.376344</td>\n",
              "      <td>186</td>\n",
              "    </tr>\n",
              "    <tr>\n",
              "      <th>1</th>\n",
              "      <td>2</td>\n",
              "      <td>[4.166666666666667, 0.0, 0.0, 4.2, 0.0, 4.5, 3...</td>\n",
              "      <td>3.934783</td>\n",
              "      <td>23</td>\n",
              "    </tr>\n",
              "    <tr>\n",
              "      <th>2</th>\n",
              "      <td>3</td>\n",
              "      <td>[2.5, 0.5, 0.5, 0.5, 4.333333333333333, 0.5, 0...</td>\n",
              "      <td>2.387097</td>\n",
              "      <td>31</td>\n",
              "    </tr>\n",
              "    <tr>\n",
              "      <th>3</th>\n",
              "      <td>4</td>\n",
              "      <td>[3.4782608695652173, 4.0, 3.7777777777777777, ...</td>\n",
              "      <td>3.485549</td>\n",
              "      <td>173</td>\n",
              "    </tr>\n",
              "    <tr>\n",
              "      <th>4</th>\n",
              "      <td>5</td>\n",
              "      <td>[3.1666666666666665, 4.25, 4.0, 3.363636363636...</td>\n",
              "      <td>3.600000</td>\n",
              "      <td>35</td>\n",
              "    </tr>\n",
              "  </tbody>\n",
              "</table>\n",
              "</div>"
            ],
            "text/plain": [
              "  userId                                        user_vector  avg_rating  \\\n",
              "0      1  [4.391891891891892, 4.6521739130434785, 4.4857...    4.376344   \n",
              "1      2  [4.166666666666667, 0.0, 0.0, 4.2, 0.0, 4.5, 3...    3.934783   \n",
              "2      3  [2.5, 0.5, 0.5, 0.5, 4.333333333333333, 0.5, 0...    2.387097   \n",
              "3      4  [3.4782608695652173, 4.0, 3.7777777777777777, ...    3.485549   \n",
              "4      5  [3.1666666666666665, 4.25, 4.0, 3.363636363636...    3.600000   \n",
              "\n",
              "  num_movies_rated  \n",
              "0              186  \n",
              "1               23  \n",
              "2               31  \n",
              "3              173  \n",
              "4               35  "
            ]
          },
          "metadata": {
            "tags": []
          },
          "execution_count": 13
        }
      ]
    },
    {
      "cell_type": "code",
      "metadata": {
        "id": "LX8x9_iGE758",
        "colab_type": "code",
        "colab": {},
        "outputId": "66e57c35-36c9-4189-c9b1-75c678330146"
      },
      "source": [
        "ratings_test = pd.read_csv(\"testing_data.csv\", converters={\"genres\": literal_eval, \"tag\": literal_eval}) \n",
        "ratings_test.head()"
      ],
      "execution_count": null,
      "outputs": [
        {
          "output_type": "execute_result",
          "data": {
            "text/html": [
              "<div>\n",
              "<style scoped>\n",
              "    .dataframe tbody tr th:only-of-type {\n",
              "        vertical-align: middle;\n",
              "    }\n",
              "\n",
              "    .dataframe tbody tr th {\n",
              "        vertical-align: top;\n",
              "    }\n",
              "\n",
              "    .dataframe thead th {\n",
              "        text-align: right;\n",
              "    }\n",
              "</style>\n",
              "<table border=\"1\" class=\"dataframe\">\n",
              "  <thead>\n",
              "    <tr style=\"text-align: right;\">\n",
              "      <th></th>\n",
              "      <th>userId</th>\n",
              "      <th>movieId</th>\n",
              "      <th>rating</th>\n",
              "      <th>timestamp</th>\n",
              "      <th>genres</th>\n",
              "      <th>tag</th>\n",
              "    </tr>\n",
              "  </thead>\n",
              "  <tbody>\n",
              "    <tr>\n",
              "      <th>0</th>\n",
              "      <td>1</td>\n",
              "      <td>3</td>\n",
              "      <td>4.0</td>\n",
              "      <td>964981247</td>\n",
              "      <td>[Comedy, Romance]</td>\n",
              "      <td>[]</td>\n",
              "    </tr>\n",
              "    <tr>\n",
              "      <th>1</th>\n",
              "      <td>1</td>\n",
              "      <td>163</td>\n",
              "      <td>5.0</td>\n",
              "      <td>964983650</td>\n",
              "      <td>[Action, Romance, Western]</td>\n",
              "      <td>[]</td>\n",
              "    </tr>\n",
              "    <tr>\n",
              "      <th>2</th>\n",
              "      <td>1</td>\n",
              "      <td>316</td>\n",
              "      <td>3.0</td>\n",
              "      <td>964982310</td>\n",
              "      <td>[Action, Adventure, Sci-Fi]</td>\n",
              "      <td>[]</td>\n",
              "    </tr>\n",
              "    <tr>\n",
              "      <th>3</th>\n",
              "      <td>1</td>\n",
              "      <td>349</td>\n",
              "      <td>4.0</td>\n",
              "      <td>964982563</td>\n",
              "      <td>[Action, Crime, Drama, Thriller]</td>\n",
              "      <td>[]</td>\n",
              "    </tr>\n",
              "    <tr>\n",
              "      <th>4</th>\n",
              "      <td>1</td>\n",
              "      <td>441</td>\n",
              "      <td>4.0</td>\n",
              "      <td>964980868</td>\n",
              "      <td>[Comedy]</td>\n",
              "      <td>[]</td>\n",
              "    </tr>\n",
              "  </tbody>\n",
              "</table>\n",
              "</div>"
            ],
            "text/plain": [
              "   userId  movieId  rating  timestamp                            genres tag\n",
              "0       1        3     4.0  964981247                 [Comedy, Romance]  []\n",
              "1       1      163     5.0  964983650        [Action, Romance, Western]  []\n",
              "2       1      316     3.0  964982310       [Action, Adventure, Sci-Fi]  []\n",
              "3       1      349     4.0  964982563  [Action, Crime, Drama, Thriller]  []\n",
              "4       1      441     4.0  964980868                          [Comedy]  []"
            ]
          },
          "metadata": {
            "tags": []
          },
          "execution_count": 14
        }
      ]
    },
    {
      "cell_type": "markdown",
      "metadata": {
        "id": "93wgYR1LE75-",
        "colab_type": "text"
      },
      "source": [
        "### Next  few cells for sample test data point"
      ]
    },
    {
      "cell_type": "code",
      "metadata": {
        "id": "s7bMkOXpE75-",
        "colab_type": "code",
        "colab": {},
        "outputId": "72e0b289-0d00-400f-8bba-aaf988655437"
      },
      "source": [
        "ratings_test.iloc[0]"
      ],
      "execution_count": null,
      "outputs": [
        {
          "output_type": "execute_result",
          "data": {
            "text/plain": [
              "userId                       1\n",
              "movieId                      3\n",
              "rating                       4\n",
              "timestamp            964981247\n",
              "genres       [Comedy, Romance]\n",
              "tag                         []\n",
              "Name: 0, dtype: object"
            ]
          },
          "metadata": {
            "tags": []
          },
          "execution_count": 15
        }
      ]
    },
    {
      "cell_type": "code",
      "metadata": {
        "id": "xD0Lky29E76A",
        "colab_type": "code",
        "colab": {},
        "outputId": "75a3cd13-d48c-496d-e42c-2bac76ee6950"
      },
      "source": [
        "user_rating_df[user_rating_df['movieId']==6]"
      ],
      "execution_count": null,
      "outputs": [
        {
          "output_type": "execute_result",
          "data": {
            "text/html": [
              "<div>\n",
              "<style scoped>\n",
              "    .dataframe tbody tr th:only-of-type {\n",
              "        vertical-align: middle;\n",
              "    }\n",
              "\n",
              "    .dataframe tbody tr th {\n",
              "        vertical-align: top;\n",
              "    }\n",
              "\n",
              "    .dataframe thead th {\n",
              "        text-align: right;\n",
              "    }\n",
              "</style>\n",
              "<table border=\"1\" class=\"dataframe\">\n",
              "  <thead>\n",
              "    <tr style=\"text-align: right;\">\n",
              "      <th></th>\n",
              "      <th>userId</th>\n",
              "      <th>movieId</th>\n",
              "      <th>rating</th>\n",
              "      <th>timestamp</th>\n",
              "      <th>genres</th>\n",
              "      <th>tag</th>\n",
              "    </tr>\n",
              "  </thead>\n",
              "  <tbody>\n",
              "    <tr>\n",
              "      <th>79628</th>\n",
              "      <td>610</td>\n",
              "      <td>6</td>\n",
              "      <td>5.0</td>\n",
              "      <td>1493850345</td>\n",
              "      <td>[Action, Crime, Thriller]</td>\n",
              "      <td>[]</td>\n",
              "    </tr>\n",
              "  </tbody>\n",
              "</table>\n",
              "</div>"
            ],
            "text/plain": [
              "       userId  movieId  rating   timestamp                     genres tag\n",
              "79628     610        6     5.0  1493850345  [Action, Crime, Thriller]  []"
            ]
          },
          "metadata": {
            "tags": []
          },
          "execution_count": 16
        }
      ]
    },
    {
      "cell_type": "code",
      "metadata": {
        "id": "6PZZJ09oE76G",
        "colab_type": "code",
        "colab": {},
        "outputId": "5b878dd8-efd2-43b2-efa1-515972422bd1"
      },
      "source": [
        "genres = user_rating_df[user_rating_df['movieId']==6].genres.values[0]\n",
        "vector = np.zeros(len(genre_dict))\n",
        "for g in genres:\n",
        "    vector[genre_dict[g]] = 1\n",
        "print(vector)"
      ],
      "execution_count": null,
      "outputs": [
        {
          "output_type": "stream",
          "text": [
            "[0. 0. 0. 0. 0. 0. 0. 1. 1. 1. 0. 0. 0. 0. 0. 0. 0. 0. 0. 0.]\n"
          ],
          "name": "stdout"
        }
      ]
    },
    {
      "cell_type": "code",
      "metadata": {
        "id": "bx4vq6KZE76I",
        "colab_type": "code",
        "colab": {},
        "outputId": "ae235b28-cdfd-48f3-8aaa-3e08ffe6f9f8"
      },
      "source": [
        "user_df[user_df['userId']==1].user_vector[0]"
      ],
      "execution_count": null,
      "outputs": [
        {
          "output_type": "execute_result",
          "data": {
            "text/plain": [
              "array([4.39189189, 4.65217391, 4.48571429, 4.26760563, 4.24390244,\n",
              "       4.33333333, 4.53846154, 4.33333333, 4.39393939, 4.05      ,\n",
              "       3.58333333, 4.28571429, 4.19354839, 4.61111111, 4.63157895,\n",
              "       0.        , 0.        , 4.4       , 5.        , 0.        ])"
            ]
          },
          "metadata": {
            "tags": []
          },
          "execution_count": 18
        }
      ]
    },
    {
      "cell_type": "code",
      "metadata": {
        "scrolled": true,
        "id": "FD3esxqIE76K",
        "colab_type": "code",
        "colab": {},
        "outputId": "43b0346e-5b23-42a3-9432-1e520347ac20"
      },
      "source": [
        "x = vector*user_df[user_df['userId']==1].user_vector[0]\n",
        "np.nanmean(np.where(x!=0,x,np.nan)) "
      ],
      "execution_count": null,
      "outputs": [
        {
          "output_type": "execute_result",
          "data": {
            "text/plain": [
              "4.259090909090909"
            ]
          },
          "metadata": {
            "tags": []
          },
          "execution_count": 19
        }
      ]
    },
    {
      "cell_type": "markdown",
      "metadata": {
        "id": "Rjrj3u66E76M",
        "colab_type": "text"
      },
      "source": [
        "### Test on entire test data"
      ]
    },
    {
      "cell_type": "code",
      "metadata": {
        "id": "vhTae8OXE76M",
        "colab_type": "code",
        "colab": {}
      },
      "source": [
        "# Load the already calculated data from csvs\n",
        "\n",
        "# user_df = pd.read_csv(\"user_info.csv\", converters={\"user_vector\": pd.array})\n",
        "# movies_df = pd.read_csv(\"movie_vector.csv\", converters={\"movie_vector\": pd.array})"
      ],
      "execution_count": null,
      "outputs": []
    },
    {
      "cell_type": "code",
      "metadata": {
        "id": "xez8u-JME76O",
        "colab_type": "code",
        "colab": {}
      },
      "source": [
        "algo_predictions = pd.DataFrame(columns=['userId', 'movieId', 'user_vector', 'movie_vector', 'og_rating', 'pred_rating'])\n",
        "for ind, row in ratings_test.iterrows():\n",
        "    userId = row['userId']\n",
        "    movieId = row['movieId']\n",
        "    og_rating = row['rating']\n",
        "#     print(userId)\n",
        "#     print(movieId)\n",
        "    \n",
        "    try:\n",
        "        user_vector = user_df[user_df['userId'] == int(userId)].user_vector.values[0]\n",
        "        movie_vector = movies[movies['movieId'] == int(movieId)].movie_vector.values[0]\n",
        "    #     print(user_vector)\n",
        "    #     print(movie_vector)\n",
        "\n",
        "        predicted_rating = user_vector*movie_vector\n",
        "    #     print(predicted_rating)\n",
        "        \n",
        "        if predicted_rating.any():\n",
        "            predicted_rating = np.nanmean(np.where(predicted_rating!=0, predicted_rating, np.nan)) \n",
        "    #     print(predicted_rating)\n",
        "        else:\n",
        "            predicted_rating = 0\n",
        "\n",
        "        row_df = pd.DataFrame([[userId, movieId, user_vector, movie_vector, og_rating, predicted_rating]], \n",
        "                    columns=['userId', 'movieId', 'user_vector', 'movie_vector', 'og_rating', 'pred_rating'])\n",
        "        algo_predictions = pd.concat([algo_predictions, row_df], ignore_index=True)\n",
        "    except:\n",
        "        print(\"User not found: \", userId)"
      ],
      "execution_count": null,
      "outputs": []
    },
    {
      "cell_type": "code",
      "metadata": {
        "id": "kX92i_TbE76Q",
        "colab_type": "code",
        "colab": {},
        "outputId": "35c02977-8068-45b8-c97d-75b2d4dba239"
      },
      "source": [
        "rmse = ((algo_predictions.og_rating - algo_predictions.pred_rating) ** 2).mean() ** .5\n",
        "rmse"
      ],
      "execution_count": null,
      "outputs": [
        {
          "output_type": "execute_result",
          "data": {
            "text/plain": [
              "0.9185496972723388"
            ]
          },
          "metadata": {
            "tags": []
          },
          "execution_count": 53
        }
      ]
    },
    {
      "cell_type": "code",
      "metadata": {
        "id": "9y_KEqI8E76T",
        "colab_type": "code",
        "colab": {},
        "outputId": "4727793c-cfe7-4c55-c89b-90803057d1e1"
      },
      "source": [
        "mae = (((algo_predictions.og_rating - algo_predictions.pred_rating) ** 2) ** .5).mean()\n",
        "mae"
      ],
      "execution_count": null,
      "outputs": [
        {
          "output_type": "execute_result",
          "data": {
            "text/plain": [
              "0.7095402988159346"
            ]
          },
          "metadata": {
            "tags": []
          },
          "execution_count": 54
        }
      ]
    }
  ]
}