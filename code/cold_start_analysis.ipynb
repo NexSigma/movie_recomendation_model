{
  "nbformat": 4,
  "nbformat_minor": 0,
  "metadata": {
    "colab": {
      "name": "cold_start_analysis.ipynb",
      "provenance": [],
      "collapsed_sections": []
    },
    "kernelspec": {
      "name": "python3",
      "display_name": "Python 3"
    }
  },
  "cells": [
    {
      "cell_type": "markdown",
      "metadata": {
        "id": "S5rY5TFX_Fzq",
        "colab_type": "text"
      },
      "source": [
        "#### Cold Start Analysis:\n",
        "\n",
        "This notebook analyses the performance of different approaches in case of a new user or a user with less number of interaction with the system, namely the cold start problem. \\\\\n",
        "We compute the rmse and mae for those customers who have rated less than 18 books and so on. \\\\\n",
        "We also observe the performance of approached for customers who have rated more than 1000 movies. "
      ]
    },
    {
      "cell_type": "code",
      "metadata": {
        "id": "l6H9h87h_DXr",
        "colab_type": "code",
        "colab": {}
      },
      "source": [
        "!pip install surprise"
      ],
      "execution_count": null,
      "outputs": []
    },
    {
      "cell_type": "code",
      "metadata": {
        "id": "G8QgQWPZ3kFu",
        "colab_type": "code",
        "colab": {}
      },
      "source": [
        "import pickle\n",
        "import os\n",
        "\n",
        "import pandas as pd\n",
        "\n",
        "from surprise import SVD, SVDpp\n",
        "from surprise import KNNBasic, KNNBaseline, BaselineOnly\n",
        "from surprise import Dataset                                                     \n",
        "from surprise import Reader                                                      \n",
        "from surprise import dump\n",
        "from surprise.accuracy import rmse"
      ],
      "execution_count": null,
      "outputs": []
    },
    {
      "cell_type": "code",
      "metadata": {
        "id": "Y3nN4GjS3sjT",
        "colab_type": "code",
        "colab": {}
      },
      "source": [
        "def convert_traintest_dataframe_forsurprise(training_dataframe, testing_dataframe):\n",
        "    reader = Reader(rating_scale=(0, 5))\n",
        "    trainset = Dataset.load_from_df(training_dataframe[['userId', 'movieId', 'rating']], reader)\n",
        "    testset = Dataset.load_from_df(testing_dataframe[['userId', 'movieId', 'rating']], reader)\n",
        "    trainset = trainset.construct_trainset(trainset.raw_ratings)\n",
        "    testset = testset.construct_testset(testset.raw_ratings)\n",
        "    return trainset, testset"
      ],
      "execution_count": null,
      "outputs": []
    },
    {
      "cell_type": "code",
      "metadata": {
        "id": "z6OJ9U-E3zQP",
        "colab_type": "code",
        "colab": {}
      },
      "source": [
        "file_path_train = 'training_data.csv'\n",
        "file_path_test = 'testing_data.csv'\n",
        "traindf = pd.read_csv(file_path_train)\n",
        "testdf = pd.read_csv(file_path_test)\n",
        "trainset, testset = convert_traintest_dataframe_forsurprise(traindf, testdf)"
      ],
      "execution_count": null,
      "outputs": []
    },
    {
      "cell_type": "code",
      "metadata": {
        "id": "-aF-xIYxX4aB",
        "colab_type": "code",
        "colab": {
          "base_uri": "https://localhost:8080/",
          "height": 195
        },
        "outputId": "d1aa662c-301c-4d5f-cedf-23ed3984f02e"
      },
      "source": [
        "traindf.head()"
      ],
      "execution_count": null,
      "outputs": [
        {
          "output_type": "execute_result",
          "data": {
            "text/html": [
              "<div>\n",
              "<style scoped>\n",
              "    .dataframe tbody tr th:only-of-type {\n",
              "        vertical-align: middle;\n",
              "    }\n",
              "\n",
              "    .dataframe tbody tr th {\n",
              "        vertical-align: top;\n",
              "    }\n",
              "\n",
              "    .dataframe thead th {\n",
              "        text-align: right;\n",
              "    }\n",
              "</style>\n",
              "<table border=\"1\" class=\"dataframe\">\n",
              "  <thead>\n",
              "    <tr style=\"text-align: right;\">\n",
              "      <th></th>\n",
              "      <th>userId</th>\n",
              "      <th>movieId</th>\n",
              "      <th>rating</th>\n",
              "      <th>timestamp</th>\n",
              "      <th>genres</th>\n",
              "      <th>tag</th>\n",
              "    </tr>\n",
              "  </thead>\n",
              "  <tbody>\n",
              "    <tr>\n",
              "      <th>0</th>\n",
              "      <td>1</td>\n",
              "      <td>1</td>\n",
              "      <td>4.0</td>\n",
              "      <td>964982703</td>\n",
              "      <td>['Adventure', 'Animation', 'Children', 'Comedy...</td>\n",
              "      <td>[]</td>\n",
              "    </tr>\n",
              "    <tr>\n",
              "      <th>1</th>\n",
              "      <td>1</td>\n",
              "      <td>6</td>\n",
              "      <td>4.0</td>\n",
              "      <td>964982224</td>\n",
              "      <td>['Action', 'Crime', 'Thriller']</td>\n",
              "      <td>[]</td>\n",
              "    </tr>\n",
              "    <tr>\n",
              "      <th>2</th>\n",
              "      <td>1</td>\n",
              "      <td>47</td>\n",
              "      <td>5.0</td>\n",
              "      <td>964983815</td>\n",
              "      <td>['Mystery', 'Thriller']</td>\n",
              "      <td>[]</td>\n",
              "    </tr>\n",
              "    <tr>\n",
              "      <th>3</th>\n",
              "      <td>1</td>\n",
              "      <td>50</td>\n",
              "      <td>5.0</td>\n",
              "      <td>964982931</td>\n",
              "      <td>['Crime', 'Mystery', 'Thriller']</td>\n",
              "      <td>[]</td>\n",
              "    </tr>\n",
              "    <tr>\n",
              "      <th>4</th>\n",
              "      <td>1</td>\n",
              "      <td>70</td>\n",
              "      <td>3.0</td>\n",
              "      <td>964982400</td>\n",
              "      <td>['Action', 'Comedy', 'Horror', 'Thriller']</td>\n",
              "      <td>[]</td>\n",
              "    </tr>\n",
              "  </tbody>\n",
              "</table>\n",
              "</div>"
            ],
            "text/plain": [
              "   userId  movieId  ...                                             genres  tag\n",
              "0       1        1  ...  ['Adventure', 'Animation', 'Children', 'Comedy...   []\n",
              "1       1        6  ...                    ['Action', 'Crime', 'Thriller']   []\n",
              "2       1       47  ...                            ['Mystery', 'Thriller']   []\n",
              "3       1       50  ...                   ['Crime', 'Mystery', 'Thriller']   []\n",
              "4       1       70  ...         ['Action', 'Comedy', 'Horror', 'Thriller']   []\n",
              "\n",
              "[5 rows x 6 columns]"
            ]
          },
          "metadata": {
            "tags": []
          },
          "execution_count": 5
        }
      ]
    },
    {
      "cell_type": "code",
      "metadata": {
        "id": "TzdYPykH4DMR",
        "colab_type": "code",
        "colab": {
          "base_uri": "https://localhost:8080/",
          "height": 50
        },
        "outputId": "91278275-9801-4593-f78c-3dc9ca7caf08"
      },
      "source": [
        "algo_svd = SVD()     \n",
        "algo_svdpp = SVDpp()                                    \n",
        "algo_knn = KNNBasic()\n",
        "\n",
        "\n",
        "algo_svd.fit(trainset)                             \n",
        "predictions_svd = algo_svd.test(testset)\n",
        "\n",
        "algo_svdpp.fit(trainset)                             \n",
        "predictions_svdpp = algo_svdpp.test(testset)\n",
        "\n",
        "algo_knn.fit(trainset)\n",
        "predictions_knn = algo_knn.test(testset)\n",
        "\n",
        "# rmse(predictions_svd)\n",
        "# rmse(predictions_knn)                                                                           \n",
        "\n",
        "dump.dump('./dump_SVD', predictions_svd, algo_svd)\n",
        "dump.dump('./dump_SVDpp', predictions_svdpp, algo_svdpp)\n",
        "dump.dump('./dump_KNN', predictions_knn, algo_knn)"
      ],
      "execution_count": null,
      "outputs": [
        {
          "output_type": "stream",
          "text": [
            "Computing the msd similarity matrix...\n",
            "Done computing similarity matrix.\n"
          ],
          "name": "stdout"
        }
      ]
    },
    {
      "cell_type": "code",
      "metadata": {
        "id": "IWpBO-jw4gR4",
        "colab_type": "code",
        "colab": {}
      },
      "source": [
        "df_svd = pd.DataFrame(predictions_svd, columns=['uid', 'iid', 'rui', 'est', 'details']) \n",
        "df_svdpp = pd.DataFrame(predictions_svdpp, columns=['uid', 'iid', 'rui', 'est', 'details'])        \n",
        "df_knn = pd.DataFrame(predictions_knn, columns=['uid', 'iid', 'rui', 'est', 'details']) "
      ],
      "execution_count": null,
      "outputs": []
    },
    {
      "cell_type": "code",
      "metadata": {
        "id": "5ytiPn_6Z4D5",
        "colab_type": "code",
        "colab": {
          "base_uri": "https://localhost:8080/",
          "height": 67
        },
        "outputId": "c172233e-b73b-4226-faea-c9505e9c0b09"
      },
      "source": [
        "sim_options = {'name': 'pearson_baseline',\n",
        "               'user_based': False  # compute  similarities between items\n",
        "               }\n",
        "# algo = KNNBaseline(sim_options=sim_options)\n",
        "algo_knnbaseline = KNNBaseline(sim_options=sim_options)\n",
        "algo_knnbaseline.fit(trainset)\n",
        "predictions_knnbaseline = algo_knnbaseline.test(testset)"
      ],
      "execution_count": null,
      "outputs": [
        {
          "output_type": "stream",
          "text": [
            "Estimating biases using als...\n",
            "Computing the pearson_baseline similarity matrix...\n",
            "Done computing similarity matrix.\n"
          ],
          "name": "stdout"
        }
      ]
    },
    {
      "cell_type": "code",
      "metadata": {
        "id": "-qpAZxicab7y",
        "colab_type": "code",
        "colab": {}
      },
      "source": [
        "df_knnbaseline = pd.DataFrame(predictions_knnbaseline, columns=['uid', 'iid', 'rui', 'est', 'details']) \n",
        "df_knnbaseline['err'] = abs(df_knnbaseline.est - df_knnbaseline.rui)\n",
        "df_knnbaseline['sqr_err'] = (df_knnbaseline.est - df_knnbaseline.rui)**2"
      ],
      "execution_count": null,
      "outputs": []
    },
    {
      "cell_type": "code",
      "metadata": {
        "id": "yIlRty-X4z2T",
        "colab_type": "code",
        "colab": {}
      },
      "source": [
        "df_svd['err'] = abs(df_svd.est - df_svd.rui)\n",
        "df_svdpp['err'] = abs(df_svdpp.est - df_svdpp.rui)\n",
        "df_knn['err'] = abs(df_knn.est - df_knn.rui)"
      ],
      "execution_count": null,
      "outputs": []
    },
    {
      "cell_type": "code",
      "metadata": {
        "id": "VdC0IyDxY4xB",
        "colab_type": "code",
        "colab": {}
      },
      "source": [
        "df_svd['sqr_err'] = (df_svd.est - df_svd.rui)**2\n",
        "df_svdpp['sqr_err'] = (df_svdpp.est - df_svdpp.rui)**2\n",
        "df_knn['sqr_err'] = (df_knn.est - df_knn.rui)**2"
      ],
      "execution_count": null,
      "outputs": []
    },
    {
      "cell_type": "code",
      "metadata": {
        "id": "t4gOt7SHcVnO",
        "colab_type": "code",
        "colab": {
          "base_uri": "https://localhost:8080/",
          "height": 34
        },
        "outputId": "21a9276e-f43b-4dfc-9afb-65987e0cd1f1"
      },
      "source": [
        "algo_baselineonly = BaselineOnly()\n",
        "algo_baselineonly.fit(trainset)\n",
        "predictions_baselineonly = algo_baselineonly.test(testset)\n",
        "\n",
        "df_baselineonly = pd.DataFrame(predictions_baselineonly, columns=['uid', 'iid', 'rui', 'est', 'details']) \n",
        "df_baselineonly['err'] = abs(df_baselineonly.est - df_baselineonly.rui)\n",
        "df_baselineonly['sqr_err'] = (df_baselineonly.est - df_baselineonly.rui)**2\n",
        "df_baselineonly['Iu'] = df_baselineonly.uid.apply(get_Iu)"
      ],
      "execution_count": null,
      "outputs": [
        {
          "output_type": "stream",
          "text": [
            "Estimating biases using als...\n"
          ],
          "name": "stdout"
        }
      ]
    },
    {
      "cell_type": "code",
      "metadata": {
        "id": "falRCQt3dYFC",
        "colab_type": "code",
        "colab": {
          "base_uri": "https://localhost:8080/",
          "height": 67
        },
        "outputId": "f3e8404f-77c9-427e-c663-f9ddadd0fb11"
      },
      "source": [
        "sim_options = {'name': 'pearson_baseline',\n",
        "               'user_based': True  # compute  similarities between items\n",
        "               }\n",
        "algo_knnbaseline_user = KNNBaseline(sim_options=sim_options)\n",
        "algo_knnbaseline_user.fit(trainset)\n",
        "predictions_knnbaseline_user = algo_knnbaseline_user.test(testset)\n",
        "\n",
        "df_knn_user = pd.DataFrame(predictions_knnbaseline_user, columns=['uid', 'iid', 'rui', 'est', 'details']) \n",
        "df_knn_user['err'] = abs(df_knn_user.est - df_knn_user.rui)\n",
        "df_knn_user['sqr_err'] = (df_knn_user.est - df_knn_user.rui)**2\n",
        "df_knn_user['Iu'] = df_knn_user.uid.apply(get_Iu)"
      ],
      "execution_count": null,
      "outputs": [
        {
          "output_type": "stream",
          "text": [
            "Estimating biases using als...\n",
            "Computing the pearson_baseline similarity matrix...\n",
            "Done computing similarity matrix.\n"
          ],
          "name": "stdout"
        }
      ]
    },
    {
      "cell_type": "code",
      "metadata": {
        "id": "SSoLuqrV65pK",
        "colab_type": "code",
        "colab": {
          "base_uri": "https://localhost:8080/",
          "height": 195
        },
        "outputId": "897911ad-5086-4798-914e-58df7da6b068"
      },
      "source": [
        "df_svd.head()"
      ],
      "execution_count": null,
      "outputs": [
        {
          "output_type": "execute_result",
          "data": {
            "text/html": [
              "<div>\n",
              "<style scoped>\n",
              "    .dataframe tbody tr th:only-of-type {\n",
              "        vertical-align: middle;\n",
              "    }\n",
              "\n",
              "    .dataframe tbody tr th {\n",
              "        vertical-align: top;\n",
              "    }\n",
              "\n",
              "    .dataframe thead th {\n",
              "        text-align: right;\n",
              "    }\n",
              "</style>\n",
              "<table border=\"1\" class=\"dataframe\">\n",
              "  <thead>\n",
              "    <tr style=\"text-align: right;\">\n",
              "      <th></th>\n",
              "      <th>uid</th>\n",
              "      <th>iid</th>\n",
              "      <th>rui</th>\n",
              "      <th>est</th>\n",
              "      <th>details</th>\n",
              "      <th>err</th>\n",
              "      <th>Iu</th>\n",
              "    </tr>\n",
              "  </thead>\n",
              "  <tbody>\n",
              "    <tr>\n",
              "      <th>0</th>\n",
              "      <td>1</td>\n",
              "      <td>3</td>\n",
              "      <td>4.0</td>\n",
              "      <td>4.200548</td>\n",
              "      <td>{'was_impossible': False}</td>\n",
              "      <td>0.200548</td>\n",
              "      <td>186</td>\n",
              "    </tr>\n",
              "    <tr>\n",
              "      <th>1</th>\n",
              "      <td>1</td>\n",
              "      <td>163</td>\n",
              "      <td>5.0</td>\n",
              "      <td>4.261322</td>\n",
              "      <td>{'was_impossible': False}</td>\n",
              "      <td>0.738678</td>\n",
              "      <td>186</td>\n",
              "    </tr>\n",
              "    <tr>\n",
              "      <th>2</th>\n",
              "      <td>1</td>\n",
              "      <td>316</td>\n",
              "      <td>3.0</td>\n",
              "      <td>4.024986</td>\n",
              "      <td>{'was_impossible': False}</td>\n",
              "      <td>1.024986</td>\n",
              "      <td>186</td>\n",
              "    </tr>\n",
              "    <tr>\n",
              "      <th>3</th>\n",
              "      <td>1</td>\n",
              "      <td>349</td>\n",
              "      <td>4.0</td>\n",
              "      <td>4.443186</td>\n",
              "      <td>{'was_impossible': False}</td>\n",
              "      <td>0.443186</td>\n",
              "      <td>186</td>\n",
              "    </tr>\n",
              "    <tr>\n",
              "      <th>4</th>\n",
              "      <td>1</td>\n",
              "      <td>441</td>\n",
              "      <td>4.0</td>\n",
              "      <td>4.758104</td>\n",
              "      <td>{'was_impossible': False}</td>\n",
              "      <td>0.758104</td>\n",
              "      <td>186</td>\n",
              "    </tr>\n",
              "  </tbody>\n",
              "</table>\n",
              "</div>"
            ],
            "text/plain": [
              "   uid  iid  rui       est                    details       err   Iu\n",
              "0    1    3  4.0  4.200548  {'was_impossible': False}  0.200548  186\n",
              "1    1  163  5.0  4.261322  {'was_impossible': False}  0.738678  186\n",
              "2    1  316  3.0  4.024986  {'was_impossible': False}  1.024986  186\n",
              "3    1  349  4.0  4.443186  {'was_impossible': False}  0.443186  186\n",
              "4    1  441  4.0  4.758104  {'was_impossible': False}  0.758104  186"
            ]
          },
          "metadata": {
            "tags": []
          },
          "execution_count": 12
        }
      ]
    },
    {
      "cell_type": "code",
      "metadata": {
        "id": "gyU3U3mLWG42",
        "colab_type": "code",
        "colab": {}
      },
      "source": [
        "content = pd.read_csv('content_based_genre_ratings.csv')"
      ],
      "execution_count": null,
      "outputs": []
    },
    {
      "cell_type": "code",
      "metadata": {
        "id": "V9pCMloU45Sh",
        "colab_type": "code",
        "colab": {}
      },
      "source": [
        "def get_Iu(uid):\n",
        "    \"\"\"Return the number of items rated by given user\n",
        "    \n",
        "    Args:\n",
        "        uid: The raw id of the user.\n",
        "    Returns:\n",
        "        The number of items rated by the user.\n",
        "    \"\"\"\n",
        "    \n",
        "    try:\n",
        "        return traindf[traindf['userId'] == uid].shape[0]\n",
        "    except ValueError:  # user was not part of the trainset\n",
        "        return 0"
      ],
      "execution_count": null,
      "outputs": []
    },
    {
      "cell_type": "code",
      "metadata": {
        "id": "Xaia-Iy2WPYY",
        "colab_type": "code",
        "colab": {}
      },
      "source": [
        "content['Iu'] = content.userId.apply(get_Iu)"
      ],
      "execution_count": null,
      "outputs": []
    },
    {
      "cell_type": "code",
      "metadata": {
        "id": "8a_bM4hsWyHI",
        "colab_type": "code",
        "colab": {}
      },
      "source": [
        "content['err'] = abs(content.pred_rating - content.og_rating)\n",
        "content['sqr_err'] = (content.pred_rating - content.og_rating)**2\n",
        "# rmse = ((algo_predictions.og_rating - algo_predictions.pred_rating) ** 2).mean() ** .5\n",
        "# mae = (((algo_predictions.og_rating - algo_predictions.pred_rating) ** 2) ** .5).mean()\n"
      ],
      "execution_count": null,
      "outputs": []
    },
    {
      "cell_type": "code",
      "metadata": {
        "id": "yobQqAZTWd_4",
        "colab_type": "code",
        "colab": {
          "base_uri": "https://localhost:8080/",
          "height": 50
        },
        "outputId": "5c486dcc-0636-4452-b859-b51d6b2da9af"
      },
      "source": [
        "print(\"Content based                 \",content[content.Iu < 18].err.mean())\n",
        "print(\"Content based                \",content[content.Iu < 18].sqr_err.mean()** .5)"
      ],
      "execution_count": null,
      "outputs": [
        {
          "output_type": "stream",
          "text": [
            "Content based                  0.7942792057878261\n",
            "Content based                 1.0584107905057996\n"
          ],
          "name": "stdout"
        }
      ]
    },
    {
      "cell_type": "code",
      "metadata": {
        "id": "wz1Pkbzd4-dl",
        "colab_type": "code",
        "colab": {}
      },
      "source": [
        "df_knn['Iu'] = df_knn.uid.apply(get_Iu)\n",
        "df_svd['Iu'] = df_svd.uid.apply(get_Iu)\n",
        "df_svdpp['Iu'] = df_svdpp.uid.apply(get_Iu)\n",
        "df_knnbaseline['Iu'] = df_knnbaseline.uid.apply(get_Iu)"
      ],
      "execution_count": null,
      "outputs": []
    },
    {
      "cell_type": "code",
      "metadata": {
        "id": "q-VorHYTayVQ",
        "colab_type": "code",
        "colab": {
          "base_uri": "https://localhost:8080/",
          "height": 134
        },
        "outputId": "bb83cb23-6ebd-4ba1-ec31-8a599d8dd4ec"
      },
      "source": [
        "print(\"--------------------------MAE-----------------------\")\n",
        "print(\"KNN Basic                 \",df_knn[df_knn.Iu < 18].err.mean())\n",
        "print(\"SVD                       \", df_svd[df_svd.Iu < 18].err.mean())\n",
        "print(\"SVDpp                     \",  df_svdpp[df_svdpp.Iu < 18].err.mean())\n",
        "print(\"KNN Baseline (item-item)  \", df_knnbaseline[df_knnbaseline.Iu < 18].err.mean())\n",
        "print(\"BaselineOnly              \",df_baselineonly[df_baselineonly.Iu < 18].err.mean() )\n",
        "print(\"KNN Baseline (user-user)  \",df_knn_user[df_knn_user.Iu < 18].err.mean() )"
      ],
      "execution_count": null,
      "outputs": [
        {
          "output_type": "stream",
          "text": [
            "--------------------------MAE-----------------------\n",
            "KNN Basic                  0.9356541418761788\n",
            "SVD                        0.8174986369636367\n",
            "SVDpp                      0.7853538665933238\n",
            "KNN Baseline (item-item)   0.7549100058171629\n",
            "BaselineOnly               0.828373767989461\n",
            "KNN Baseline (user-user)   0.8527037143570998\n"
          ],
          "name": "stdout"
        }
      ]
    },
    {
      "cell_type": "code",
      "metadata": {
        "id": "nQOEO64Jf9BE",
        "colab_type": "code",
        "colab": {
          "base_uri": "https://localhost:8080/",
          "height": 134
        },
        "outputId": "d2da200e-954a-44d4-89c2-890afc4b14e5"
      },
      "source": [
        "print(\"--------------------------RMSE-----------------------\")\n",
        "print(\"KNN Basic                \",df_knn[df_knn.Iu < 18].sqr_err.mean()** .5)\n",
        "print(\"SVD                      \", df_svd[df_svd.Iu < 18].sqr_err.mean()** .5)\n",
        "print(\"SVDpp                    \",  df_svdpp[df_svdpp.Iu < 18].sqr_err.mean()** .5)\n",
        "print(\"KNN Baseline (item-item) \", df_knnbaseline[df_knnbaseline.Iu < 18].sqr_err.mean()** .5)\n",
        "print(\"BaselineOnly             \",df_baselineonly[df_baselineonly.Iu < 18].sqr_err.mean()** .5 )\n",
        "print(\"KNN Baseline (user-user) \",df_knn_user[df_knn_user.Iu < 18].sqr_err.mean()** .5)"
      ],
      "execution_count": null,
      "outputs": [
        {
          "output_type": "stream",
          "text": [
            "--------------------------RMSE-----------------------\n",
            "KNN Basic                 1.1998253947989697\n",
            "SVD                       1.0549483774463828\n",
            "SVDpp                     1.0083634724152428\n",
            "KNN Baseline (item-item)  0.9896562169806813\n",
            "BaselineOnly              1.0612306019619604\n",
            "KNN Baseline (user-user)  1.1082756354422056\n"
          ],
          "name": "stdout"
        }
      ]
    },
    {
      "cell_type": "code",
      "metadata": {
        "id": "xnzmsButgiyw",
        "colab_type": "code",
        "colab": {
          "base_uri": "https://localhost:8080/",
          "height": 134
        },
        "outputId": "f326c366-38ea-45b8-9133-cf22dcb72358"
      },
      "source": [
        "print(\"--------------------------MAE-----------------------\")\n",
        "print(\"KNN Basic                 \",df_knn[df_knn.Iu > 1000].err.mean())\n",
        "print(\"SVD                       \", df_svd[df_svd.Iu > 1000].err.mean())\n",
        "print(\"SVDpp                     \",  df_svdpp[df_svdpp.Iu > 1000].err.mean())\n",
        "print(\"KNN Baseline (item-item)  \", df_knnbaseline[df_knnbaseline.Iu > 1000].err.mean())\n",
        "print(\"BaselineOnly              \",df_baselineonly[df_baselineonly.Iu > 1000].err.mean() )\n",
        "print(\"KNN Baseline (user-user)  \",df_knn_user[df_knn_user.Iu > 1000].err.mean() )"
      ],
      "execution_count": null,
      "outputs": [
        {
          "output_type": "stream",
          "text": [
            "--------------------------MAE-----------------------\n",
            "KNN Basic                  0.7118277630004157\n",
            "SVD                        0.6349197611192368\n",
            "SVDpp                      0.626063757313411\n",
            "KNN Baseline (item-item)   0.6120430789383057\n",
            "BaselineOnly               0.6306031032475772\n",
            "KNN Baseline (user-user)   0.6330297364319998\n"
          ],
          "name": "stdout"
        }
      ]
    },
    {
      "cell_type": "code",
      "metadata": {
        "id": "K1CnsM3mg0wi",
        "colab_type": "code",
        "colab": {
          "base_uri": "https://localhost:8080/",
          "height": 134
        },
        "outputId": "c79eaa77-b9a5-4d90-d470-9539c3af5858"
      },
      "source": [
        "print(\"--------------------------RMSE-----------------------\")\n",
        "print(\"KNN Basic                \",df_knn[df_knn.Iu > 1000].sqr_err.mean()** .5)\n",
        "print(\"SVD                      \", df_svd[df_svd.Iu > 1000].sqr_err.mean()** .5)\n",
        "print(\"SVDpp                    \",  df_svdpp[df_svdpp.Iu > 1000].sqr_err.mean()** .5)\n",
        "print(\"KNN Baseline (item-item) \", df_knnbaseline[df_knnbaseline.Iu > 1000].sqr_err.mean()** .5)\n",
        "print(\"BaselineOnly             \",df_baselineonly[df_baselineonly.Iu > 1000].sqr_err.mean()** .5 )\n",
        "print(\"KNN Baseline (user-user) \",df_knn_user[df_knn_user.Iu > 1000].sqr_err.mean()** .5)"
      ],
      "execution_count": null,
      "outputs": [
        {
          "output_type": "stream",
          "text": [
            "--------------------------RMSE-----------------------\n",
            "KNN Basic                 0.9174613388905646\n",
            "SVD                       0.8207944406250214\n",
            "SVDpp                     0.8136491891525117\n",
            "KNN Baseline (item-item)  0.789275629286978\n",
            "BaselineOnly              0.799990922710614\n",
            "KNN Baseline (user-user)  0.8198697577732832\n"
          ],
          "name": "stdout"
        }
      ]
    },
    {
      "cell_type": "code",
      "metadata": {
        "id": "7aWKXObN6uhT",
        "colab_type": "code",
        "colab": {
          "base_uri": "https://localhost:8080/",
          "height": 34
        },
        "outputId": "2a40f35d-3055-43aa-d508-be83732ad842"
      },
      "source": [
        "iid_df = traindf.groupby(['userId'],as_index=False).movieId.count()\n",
        "iid_df.movieId.max()"
      ],
      "execution_count": null,
      "outputs": [
        {
          "output_type": "execute_result",
          "data": {
            "text/plain": [
              "2158"
            ]
          },
          "metadata": {
            "tags": []
          },
          "execution_count": 47
        }
      ]
    }
  ]
}