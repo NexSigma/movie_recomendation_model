{
  "nbformat": 4,
  "nbformat_minor": 0,
  "metadata": {
    "colab": {
      "name": "hybrid_model.ipynb",
      "provenance": [],
      "collapsed_sections": []
    },
    "kernelspec": {
      "display_name": "Python 3",
      "language": "python",
      "name": "python3"
    },
    "language_info": {
      "codemirror_mode": {
        "name": "ipython",
        "version": 3
      },
      "file_extension": ".py",
      "mimetype": "text/x-python",
      "name": "python",
      "nbconvert_exporter": "python",
      "pygments_lexer": "ipython3",
      "version": "3.7.6"
    }
  },
  "cells": [
    {
      "cell_type": "markdown",
      "metadata": {
        "id": "P20PDvjKLGAa",
        "colab_type": "text"
      },
      "source": [
        "This model combines the recommendations generated from content-based, collaborative filtering and SVD model. The hybrid model overcomes the shortcomings of individual models and improves the diversity of the recommendations"
      ]
    },
    {
      "cell_type": "code",
      "metadata": {
        "colab_type": "code",
        "id": "25etssQM6opn",
        "colab": {}
      },
      "source": [
        "!pip install surprise"
      ],
      "execution_count": null,
      "outputs": []
    },
    {
      "cell_type": "code",
      "metadata": {
        "id": "mIOtqgFOLKMq",
        "colab_type": "code",
        "colab": {}
      },
      "source": [
        "import pandas as pd\n",
        "import numpy as np"
      ],
      "execution_count": null,
      "outputs": []
    },
    {
      "cell_type": "code",
      "metadata": {
        "colab_type": "code",
        "id": "thMttCZAJj3W",
        "colab": {}
      },
      "source": [
        "from surprise import SVD, BaselineOnly, SVDpp, NMF, SlopeOne, CoClustering, Reader\n",
        "from surprise import Dataset\n",
        "from surprise.model_selection import cross_validate\n",
        "from surprise.prediction_algorithms import KNNBaseline, KNNBasic, KNNWithMeans, KNNWithZScore\n",
        "from surprise import accuracy\n",
        "from surprise.model_selection import train_test_split\n",
        "from surprise import dump"
      ],
      "execution_count": null,
      "outputs": []
    },
    {
      "cell_type": "code",
      "metadata": {
        "id": "F_JgqL5bK_F8",
        "colab_type": "code",
        "colab": {}
      },
      "source": [
        "from sklearn.feature_extraction.text import TfidfVectorizer, CountVectorizer\n",
        "from sklearn.metrics.pairwise import linear_kernel, cosine_similarity"
      ],
      "execution_count": null,
      "outputs": []
    },
    {
      "cell_type": "code",
      "metadata": {
        "colab_type": "code",
        "id": "29jYY03OMPDb",
        "colab": {}
      },
      "source": [
        "def convert_traintest_dataframe_forsurprise(training_dataframe, testing_dataframe):\n",
        "    reader = Reader(rating_scale=(0, 5))\n",
        "    trainset = Dataset.load_from_df(training_dataframe[['userId', 'movieId', 'rating']], reader)\n",
        "    testset = Dataset.load_from_df(testing_dataframe[['userId', 'movieId', 'rating']], reader)\n",
        "    trainset = trainset.construct_trainset(trainset.raw_ratings)\n",
        "    testset = testset.construct_testset(testset.raw_ratings)\n",
        "    return trainset, testset"
      ],
      "execution_count": null,
      "outputs": []
    },
    {
      "cell_type": "code",
      "metadata": {
        "colab_type": "code",
        "id": "8CraNAQ6QnQ3",
        "colab": {}
      },
      "source": [
        "file_path_train = 'training_data.csv'\n",
        "file_path_test = 'testing_data.csv'\n",
        "traindf = pd.read_csv(file_path_train)\n",
        "testdf = pd.read_csv(file_path_test)\n",
        "trainset, testset = convert_traintest_dataframe_forsurprise(traindf, testdf)"
      ],
      "execution_count": null,
      "outputs": []
    },
    {
      "cell_type": "code",
      "metadata": {
        "colab_type": "code",
        "id": "mRRpne42gSp5",
        "colab": {
          "base_uri": "https://localhost:8080/",
          "height": 195
        },
        "outputId": "1e96782a-867d-4e9a-9409-5fc485dad2ac"
      },
      "source": [
        "testdf.head()"
      ],
      "execution_count": null,
      "outputs": [
        {
          "output_type": "execute_result",
          "data": {
            "text/html": [
              "<div>\n",
              "<style scoped>\n",
              "    .dataframe tbody tr th:only-of-type {\n",
              "        vertical-align: middle;\n",
              "    }\n",
              "\n",
              "    .dataframe tbody tr th {\n",
              "        vertical-align: top;\n",
              "    }\n",
              "\n",
              "    .dataframe thead th {\n",
              "        text-align: right;\n",
              "    }\n",
              "</style>\n",
              "<table border=\"1\" class=\"dataframe\">\n",
              "  <thead>\n",
              "    <tr style=\"text-align: right;\">\n",
              "      <th></th>\n",
              "      <th>userId</th>\n",
              "      <th>movieId</th>\n",
              "      <th>rating</th>\n",
              "      <th>timestamp</th>\n",
              "      <th>genres</th>\n",
              "      <th>tag</th>\n",
              "    </tr>\n",
              "  </thead>\n",
              "  <tbody>\n",
              "    <tr>\n",
              "      <th>0</th>\n",
              "      <td>1</td>\n",
              "      <td>3</td>\n",
              "      <td>4.0</td>\n",
              "      <td>964981247</td>\n",
              "      <td>['Comedy', 'Romance']</td>\n",
              "      <td>[]</td>\n",
              "    </tr>\n",
              "    <tr>\n",
              "      <th>1</th>\n",
              "      <td>1</td>\n",
              "      <td>163</td>\n",
              "      <td>5.0</td>\n",
              "      <td>964983650</td>\n",
              "      <td>['Action', 'Romance', 'Western']</td>\n",
              "      <td>[]</td>\n",
              "    </tr>\n",
              "    <tr>\n",
              "      <th>2</th>\n",
              "      <td>1</td>\n",
              "      <td>316</td>\n",
              "      <td>3.0</td>\n",
              "      <td>964982310</td>\n",
              "      <td>['Action', 'Adventure', 'Sci-Fi']</td>\n",
              "      <td>[]</td>\n",
              "    </tr>\n",
              "    <tr>\n",
              "      <th>3</th>\n",
              "      <td>1</td>\n",
              "      <td>349</td>\n",
              "      <td>4.0</td>\n",
              "      <td>964982563</td>\n",
              "      <td>['Action', 'Crime', 'Drama', 'Thriller']</td>\n",
              "      <td>[]</td>\n",
              "    </tr>\n",
              "    <tr>\n",
              "      <th>4</th>\n",
              "      <td>1</td>\n",
              "      <td>441</td>\n",
              "      <td>4.0</td>\n",
              "      <td>964980868</td>\n",
              "      <td>['Comedy']</td>\n",
              "      <td>[]</td>\n",
              "    </tr>\n",
              "  </tbody>\n",
              "</table>\n",
              "</div>"
            ],
            "text/plain": [
              "   userId  movieId  rating  timestamp  \\\n",
              "0       1        3     4.0  964981247   \n",
              "1       1      163     5.0  964983650   \n",
              "2       1      316     3.0  964982310   \n",
              "3       1      349     4.0  964982563   \n",
              "4       1      441     4.0  964980868   \n",
              "\n",
              "                                     genres tag  \n",
              "0                     ['Comedy', 'Romance']  []  \n",
              "1          ['Action', 'Romance', 'Western']  []  \n",
              "2         ['Action', 'Adventure', 'Sci-Fi']  []  \n",
              "3  ['Action', 'Crime', 'Drama', 'Thriller']  []  \n",
              "4                                ['Comedy']  []  "
            ]
          },
          "metadata": {
            "tags": []
          },
          "execution_count": 6
        }
      ]
    },
    {
      "cell_type": "markdown",
      "metadata": {
        "colab_type": "text",
        "id": "s6kyI5Vib1SM"
      },
      "source": [
        "### CF and Latent Factor models:"
      ]
    },
    {
      "cell_type": "code",
      "metadata": {
        "colab_type": "code",
        "id": "YL62GPmxV1cq",
        "colab": {},
        "outputId": "b18b8fdc-929e-4a84-ff04-aa858da10439"
      },
      "source": [
        "# basic collaborative filtering algorithm taking into account a baseline rating.\n",
        "sim_options = {'name': 'cosine',\n",
        "               'user_based': False  # compute  similarities between items\n",
        "               }\n",
        "knnbaseline_algo = KNNBaseline(sim_options=sim_options)\n",
        "\n",
        "knnbaseline_algo.fit(trainset)\n",
        "knnbaseline_predictions = knnbaseline_algo.test(testset)\n",
        "\n",
        "file_name = 'KnnBaseline_model'\n",
        "dump.dump(file_name, algo=knnbaseline_predictions)\n",
        "# _, loaded_algo = dump.load(file_name)\n",
        "\n",
        "accuracy.rmse(knnbaseline_predictions)\n",
        "accuracy.mae(knnbaseline_predictions)\n",
        "print(\"Done!\")"
      ],
      "execution_count": null,
      "outputs": [
        {
          "output_type": "stream",
          "text": [
            "Estimating biases using als...\n",
            "Computing the cosine similarity matrix...\n",
            "Done computing similarity matrix.\n",
            "RMSE: 0.9013\n",
            "MAE:  0.6927\n",
            "Done!\n"
          ],
          "name": "stdout"
        }
      ]
    },
    {
      "cell_type": "code",
      "metadata": {
        "colab_type": "code",
        "id": "LYhl8nM6bjdi",
        "colab": {},
        "outputId": "ad2f6c93-4c10-47eb-953c-76901dadb50c"
      },
      "source": [
        "svd_algo = SVD()\n",
        "\n",
        "svd_algo.fit(trainset)\n",
        "svd_predictions = svd_algo.test(testset)\n",
        "\n",
        "file_name = 'svd_model'\n",
        "dump.dump(file_name, algo=svd_algo)\n",
        "# _, loaded_algo = dump.load(file_name)\n",
        "\n",
        "accuracy.rmse(svd_predictions)\n",
        "accuracy.mae(svd_predictions)\n",
        "print(\"Done!\")"
      ],
      "execution_count": null,
      "outputs": [
        {
          "output_type": "stream",
          "text": [
            "RMSE: 0.8792\n",
            "MAE:  0.6732\n",
            "Done!\n"
          ],
          "name": "stdout"
        }
      ]
    },
    {
      "cell_type": "code",
      "metadata": {
        "colab_type": "code",
        "id": "9_CuU86dbsSw",
        "colab": {},
        "outputId": "e74c5230-44f9-4096-e3b5-7c563be61c84"
      },
      "source": [
        "svdpp_algo = SVDpp()\n",
        "\n",
        "svdpp_algo.fit(trainset)\n",
        "svdpp_predictions = svdpp_algo.test(testset)\n",
        "\n",
        "file_name = 'svd_model'\n",
        "dump.dump(file_name, algo=svdpp_algo)\n",
        "# _, loaded_algo = dump.load(file_name)\n",
        "\n",
        "accuracy.rmse(svdpp_predictions)\n",
        "accuracy.mae(svdpp_predictions)\n",
        "print(\"Done!\")"
      ],
      "execution_count": null,
      "outputs": [
        {
          "output_type": "stream",
          "text": [
            "RMSE: 0.8684\n",
            "MAE:  0.6636\n",
            "Done!\n"
          ],
          "name": "stdout"
        }
      ]
    },
    {
      "cell_type": "markdown",
      "metadata": {
        "colab_type": "text",
        "id": "KLw7wsbAc7be"
      },
      "source": [
        "##### Movie Similarity model"
      ]
    },
    {
      "cell_type": "code",
      "metadata": {
        "colab_type": "code",
        "id": "nqNVwdyuc9_7",
        "colab": {}
      },
      "source": [
        "movies = pd.read_csv(\"movies_tmdb.csv\")"
      ],
      "execution_count": null,
      "outputs": []
    },
    {
      "cell_type": "code",
      "metadata": {
        "colab_type": "code",
        "id": "2rSna44FtxMR",
        "colab": {}
      },
      "source": [
        "genre_to_idx = {'Adventure': 0,\n",
        " 'Animation': 1,\n",
        " 'Children': 2,\n",
        " 'Comedy': 3,\n",
        " 'Fantasy': 4,\n",
        " 'Romance': 5,\n",
        " 'Drama': 6,\n",
        " 'Action': 7,\n",
        " 'Crime': 8,\n",
        " 'Thriller': 9,\n",
        " 'Horror': 10,\n",
        " 'Mystery': 11,\n",
        " 'Sci-Fi': 12,\n",
        " 'War': 13,\n",
        " 'Musical': 14,\n",
        " 'Documentary': 15,\n",
        " 'IMAX': 16,\n",
        " 'Western': 17,\n",
        " 'Film-Noir': 18,\n",
        " '(no genres listed)': 19}"
      ],
      "execution_count": null,
      "outputs": []
    },
    {
      "cell_type": "code",
      "metadata": {
        "id": "v0Bcc6CMK_GU",
        "colab_type": "code",
        "colab": {}
      },
      "source": [
        "idx_to_genre = {0: 'Adventure',\n",
        " 1: 'Animation',\n",
        " 2: 'Children',\n",
        " 3: 'Comedy',\n",
        " 4: 'Fantasy',\n",
        " 5: 'Romance',\n",
        " 6: 'Drama',\n",
        " 7: 'Action',\n",
        " 8: 'Crime',\n",
        " 9: 'Thriller',\n",
        " 10: 'Horror',\n",
        " 11: 'Mystery',\n",
        " 12: 'Sci-Fi',\n",
        " 13: 'War',\n",
        " 14: 'Musical',\n",
        " 15: 'Documentary',\n",
        " 16: 'IMAX',\n",
        " 17: 'Western',\n",
        " 18: 'Film-Noir',\n",
        " 19: '(no genres listed)'}"
      ],
      "execution_count": null,
      "outputs": []
    },
    {
      "cell_type": "code",
      "metadata": {
        "id": "21VUn6yxK_GW",
        "colab_type": "code",
        "colab": {}
      },
      "source": [
        "movies['tagline'] = movies['tagline'].fillna('')\n",
        "movies['description_genre'] = movies['overview'] + movies['tagline'] + 2*movies['genres']\n",
        "movies['description_genre'] = movies['description_genre'].fillna('')"
      ],
      "execution_count": null,
      "outputs": []
    },
    {
      "cell_type": "code",
      "metadata": {
        "scrolled": true,
        "id": "hucL4jXpK_GY",
        "colab_type": "code",
        "colab": {}
      },
      "source": [
        "tf_new = TfidfVectorizer(analyzer='word', ngram_range=(1, 2), min_df=0, stop_words='english')\n",
        "tfidf_matrix_new = tf_new.fit_transform(movies['description_genre'])"
      ],
      "execution_count": null,
      "outputs": []
    },
    {
      "cell_type": "code",
      "metadata": {
        "id": "P4TCxmlPK_Ga",
        "colab_type": "code",
        "colab": {}
      },
      "source": [
        "cosine_sim_new = linear_kernel(tfidf_matrix_new, tfidf_matrix_new)"
      ],
      "execution_count": null,
      "outputs": []
    },
    {
      "cell_type": "code",
      "metadata": {
        "id": "fnOI4bBPK_Gc",
        "colab_type": "code",
        "colab": {},
        "outputId": "f1a0fa6a-66ad-4dd1-c6ad-ca7a9e630b87"
      },
      "source": [
        "movies = movies.reset_index()\n",
        "titles = movies['title']\n",
        "indices = pd.Series(movies.index, index=movies['title'])\n",
        "indices.head(2)"
      ],
      "execution_count": null,
      "outputs": [
        {
          "output_type": "execute_result",
          "data": {
            "text/plain": [
              "title\n",
              "Toy Story    0\n",
              "Jumanji      1\n",
              "dtype: int64"
            ]
          },
          "metadata": {
            "tags": []
          },
          "execution_count": 20
        }
      ]
    },
    {
      "cell_type": "code",
      "metadata": {
        "id": "6W0GGFCrK_Gd",
        "colab_type": "code",
        "colab": {}
      },
      "source": [
        "def get_recommendations_new(title):\n",
        "    idx = indices[title]\n",
        "    if type(idx) != np.int64:\n",
        "        if len(idx)>1:\n",
        "            print(\"ALERT: Multiple values\")\n",
        "            idx = idx[0]\n",
        "    sim_scores = list(enumerate(cosine_sim_new[idx]))\n",
        "    sim_scores = sorted(sim_scores, key=lambda x: x[1], reverse=True)\n",
        "    sim_scores = sim_scores[1:11]\n",
        "    movie_indices = [i[0] for i in sim_scores]\n",
        "    return movies['movieId'].iloc[movie_indices]"
      ],
      "execution_count": null,
      "outputs": []
    },
    {
      "cell_type": "markdown",
      "metadata": {
        "colab_type": "text",
        "id": "9s7dEevLc_7y"
      },
      "source": [
        "##### Popularity model"
      ]
    },
    {
      "cell_type": "code",
      "metadata": {
        "colab_type": "code",
        "id": "DvRGA0r5qbXg",
        "colab": {}
      },
      "source": [
        "def genre_based_popularity(genre):\n",
        "    mask = movies.genres.apply(lambda x: genre in x)\n",
        "    filtered_movie = movies[mask]\n",
        "    filtered_movie = filtered_movie.sort_values(by='popularity', ascending=False)\n",
        "#     filtered_movie = filtered_movie.sort_values(by='wr', ascending=False)\n",
        "    return filtered_movie['movieId'].head(10).values.tolist() \n",
        "\n",
        "# genre_based_popularity('Animation')[['title', 'popularity']].head(25)"
      ],
      "execution_count": null,
      "outputs": []
    },
    {
      "cell_type": "code",
      "metadata": {
        "colab_type": "code",
        "id": "tvDhVPC1rhqq",
        "scrolled": true,
        "colab": {}
      },
      "source": [
        "user_info = pd.read_csv('user_info.csv')"
      ],
      "execution_count": null,
      "outputs": []
    },
    {
      "cell_type": "code",
      "metadata": {
        "id": "R0GpH8fUK_Gk",
        "colab_type": "code",
        "colab": {}
      },
      "source": [
        "user_info['user_vector'] = user_info['user_vector'].apply(lambda x: x.replace('[', ' ').replace(']', ' ').strip().split())\n",
        "user_info['user_vector'] = user_info['user_vector'].apply(lambda x: np.asarray(x).astype(float))\n"
      ],
      "execution_count": null,
      "outputs": []
    },
    {
      "cell_type": "code",
      "metadata": {
        "colab_type": "code",
        "id": "ttzhKVtNrqdZ",
        "colab": {}
      },
      "source": [
        "def user_top_genre(userId):\n",
        "    user_vec = user_info['user_vector'][user_info['userId'] == userId].values[0].copy()\n",
        "    print(\"User Vector: \", user_vec)\n",
        "    top_genre_indices = np.flip(np.argsort(user_vec))\n",
        "    genre_list = []\n",
        "    for i in top_genre_indices[:3]:\n",
        "        genre_list.append(idx_to_genre[i])\n",
        "    return genre_list"
      ],
      "execution_count": null,
      "outputs": []
    },
    {
      "cell_type": "code",
      "metadata": {
        "id": "1jc3uWHRK_Go",
        "colab_type": "code",
        "colab": {},
        "outputId": "45c629dd-5cfe-41bd-adb0-a4205ae73ab3"
      },
      "source": [
        "user_top_genre(1)"
      ],
      "execution_count": null,
      "outputs": [
        {
          "output_type": "execute_result",
          "data": {
            "text/plain": [
              "['Film-Noir', 'Animation', 'Musical']"
            ]
          },
          "metadata": {
            "tags": []
          },
          "execution_count": 67
        }
      ]
    },
    {
      "cell_type": "markdown",
      "metadata": {
        "colab_type": "text",
        "id": "MVMftu50dFrE"
      },
      "source": [
        "##### Hybrid model"
      ]
    },
    {
      "cell_type": "code",
      "metadata": {
        "colab_type": "code",
        "id": "gXcnBZNned4e",
        "colab": {}
      },
      "source": [
        "knn_baseline = dump.load('KnnBaseline_model')\n",
        "svdpp = dump.load('svdpp_model') "
      ],
      "execution_count": null,
      "outputs": []
    },
    {
      "cell_type": "code",
      "metadata": {
        "colab_type": "code",
        "id": "tcerU3NFgpy1",
        "colab": {}
      },
      "source": [
        "# List of users in testing data:\n",
        "user_list = testdf['userId'].unique()"
      ],
      "execution_count": null,
      "outputs": []
    },
    {
      "cell_type": "code",
      "metadata": {
        "colab_type": "code",
        "id": "gRY48Y-uiwGv",
        "colab": {
          "base_uri": "https://localhost:8080/",
          "height": 166
        },
        "outputId": "35b1d87c-8479-4e92-c701-dfa7aadab70a"
      },
      "source": [
        "# type(testdf['userId'][0])\n",
        "test_movies = testdf[testdf['userId'] == 60]\n",
        "test_movies.head()"
      ],
      "execution_count": null,
      "outputs": [
        {
          "output_type": "execute_result",
          "data": {
            "text/html": [
              "<div>\n",
              "<style scoped>\n",
              "    .dataframe tbody tr th:only-of-type {\n",
              "        vertical-align: middle;\n",
              "    }\n",
              "\n",
              "    .dataframe tbody tr th {\n",
              "        vertical-align: top;\n",
              "    }\n",
              "\n",
              "    .dataframe thead th {\n",
              "        text-align: right;\n",
              "    }\n",
              "</style>\n",
              "<table border=\"1\" class=\"dataframe\">\n",
              "  <thead>\n",
              "    <tr style=\"text-align: right;\">\n",
              "      <th></th>\n",
              "      <th>userId</th>\n",
              "      <th>movieId</th>\n",
              "      <th>rating</th>\n",
              "      <th>timestamp</th>\n",
              "      <th>genres</th>\n",
              "      <th>tag</th>\n",
              "    </tr>\n",
              "  </thead>\n",
              "  <tbody>\n",
              "    <tr>\n",
              "      <th>1745</th>\n",
              "      <td>60</td>\n",
              "      <td>48</td>\n",
              "      <td>3.0</td>\n",
              "      <td>1393541734</td>\n",
              "      <td>['Animation', 'Children', 'Drama', 'Musical', ...</td>\n",
              "      <td>[]</td>\n",
              "    </tr>\n",
              "    <tr>\n",
              "      <th>1746</th>\n",
              "      <td>60</td>\n",
              "      <td>805</td>\n",
              "      <td>4.0</td>\n",
              "      <td>1393541754</td>\n",
              "      <td>['Drama', 'Thriller']</td>\n",
              "      <td>[]</td>\n",
              "    </tr>\n",
              "    <tr>\n",
              "      <th>1747</th>\n",
              "      <td>60</td>\n",
              "      <td>1242</td>\n",
              "      <td>4.0</td>\n",
              "      <td>1393541757</td>\n",
              "      <td>['Drama', 'War']</td>\n",
              "      <td>[]</td>\n",
              "    </tr>\n",
              "    <tr>\n",
              "      <th>1748</th>\n",
              "      <td>60</td>\n",
              "      <td>3424</td>\n",
              "      <td>4.0</td>\n",
              "      <td>1393541967</td>\n",
              "      <td>['Drama']</td>\n",
              "      <td>[]</td>\n",
              "    </tr>\n",
              "  </tbody>\n",
              "</table>\n",
              "</div>"
            ],
            "text/plain": [
              "      userId  movieId  rating   timestamp  \\\n",
              "1745      60       48     3.0  1393541734   \n",
              "1746      60      805     4.0  1393541754   \n",
              "1747      60     1242     4.0  1393541757   \n",
              "1748      60     3424     4.0  1393541967   \n",
              "\n",
              "                                                 genres tag  \n",
              "1745  ['Animation', 'Children', 'Drama', 'Musical', ...  []  \n",
              "1746                              ['Drama', 'Thriller']  []  \n",
              "1747                                   ['Drama', 'War']  []  \n",
              "1748                                          ['Drama']  []  "
            ]
          },
          "metadata": {
            "tags": []
          },
          "execution_count": 79
        }
      ]
    },
    {
      "cell_type": "code",
      "metadata": {
        "colab_type": "code",
        "id": "nh3JJEIKfnkM",
        "colab": {}
      },
      "source": [
        "# Combined model predicion on testing data, using top movies to generate more movies based on movie similarity and popularity\n",
        "\n",
        "def hybrid(userId):\n",
        "    user_movies = testdf[testdf['userId'] == userId]\n",
        "    user_movies['est'] = user_movies['movieId'].apply(lambda x: 0.6*knnbaseline_algo.predict(userId,x).est + 0.4*svdpp_algo.predict(userId, x).est)    \n",
        "    user_movies = user_movies.sort_values(by ='est', ascending=False).head(4)\n",
        "    user_movies['Model'] = 'SVD + CF'\n",
        "#     user_movies = user_movies['movieId'].values.tolist()\n",
        "#     print(\"User liked movies list: \", user_movies)\n",
        "    \n",
        "    recommend_list = user_movies[['movieId', 'est', 'Model']]\n",
        "    print(recommend_list.head())\n",
        "\n",
        "#     top_movie = user_movies['movieId'].iloc[0]\n",
        "#     print(\"Top movie id\", top_movie)\n",
        "#     top_movie_title = movies['title'][movies['movieId'] == top_movie].values[0]\n",
        "#     print(\"Top movie title\", top_movie_title)\n",
        "\n",
        "    \n",
        "    movie_list = recommend_list['movieId'].values.tolist()\n",
        "    print(movie_list)\n",
        "    sim_movies_list = []\n",
        "    for movie_id in movie_list:\n",
        "        # Call content based \n",
        "        movie_title = movies['title'][movies['movieId'] == movie_id].values[0]\n",
        "        sim_movies = get_recommendations_new(movie_title)\n",
        "#         print(sim_movies.values.tolist())\n",
        "        sim_movies_list.extend(sim_movies)\n",
        "    \n",
        "    \n",
        "    # Compute ratings for the popular movies\n",
        "    for movie_id in sim_movies_list:\n",
        "        pred_rating = 0.6*knnbaseline_algo.predict(userId, movie_id).est + 0.4*svdpp_algo.predict(userId, movie_id).est\n",
        "        row_df = pd.DataFrame([[movie_id, pred_rating, 'Movie similarity']], columns=['movieId', 'est','Model'])\n",
        "        recommend_list = pd.concat([recommend_list, row_df], ignore_index=True)\n",
        "    \n",
        "    # Popular based movies\n",
        "    top_genre_list = user_top_genre(userId)\n",
        "    print(\"User top genre list: \", top_genre_list)\n",
        "    \n",
        "    popular_movies = []\n",
        "    for top_genre in top_genre_list:\n",
        "        popular_movies.extend(genre_based_popularity(top_genre))\n",
        "    print(\"Final list: \", popular_movies)\n",
        "    \n",
        "    # Compute ratings for the popular movies\n",
        "    for movie_id in popular_movies:\n",
        "        pred_rating = 0.6*knnbaseline_algo.predict(userId, movie_id).est + 0.4*svdpp_algo.predict(userId, movie_id).est\n",
        "        row_df = pd.DataFrame([[movie_id, pred_rating, 'Popularity']], columns=['movieId', 'est','Model'])\n",
        "        recommend_list = pd.concat([recommend_list, row_df], ignore_index=True)\n",
        "    recommend_list = recommend_list.drop_duplicates(subset=['movieId'])\n",
        "    train_movie_list = traindf[traindf['userId']==userId]['movieId'].values.tolist()\n",
        "    \n",
        "    # Remove movies in training for this user\n",
        "    mask = recommend_list.movieId.apply(lambda x: x not in train_movie_list)\n",
        "    recommend_list = recommend_list[mask]\n",
        "    \n",
        "    return recommend_list"
      ],
      "execution_count": null,
      "outputs": []
    },
    {
      "cell_type": "code",
      "metadata": {
        "id": "ZDeKwXu3K_Gy",
        "colab_type": "code",
        "colab": {},
        "outputId": "577b321d-593a-4450-a42f-afa244789b1c"
      },
      "source": [
        "# traindf[traindf['userId'] == 9].sort_values(by = 'rating', ascending = False)\n",
        "traindf[traindf['userId'] == 524].sort_values(by = 'rating', ascending = False)"
      ],
      "execution_count": null,
      "outputs": [
        {
          "output_type": "execute_result",
          "data": {
            "text/html": [
              "<div>\n",
              "<style scoped>\n",
              "    .dataframe tbody tr th:only-of-type {\n",
              "        vertical-align: middle;\n",
              "    }\n",
              "\n",
              "    .dataframe tbody tr th {\n",
              "        vertical-align: top;\n",
              "    }\n",
              "\n",
              "    .dataframe thead th {\n",
              "        text-align: right;\n",
              "    }\n",
              "</style>\n",
              "<table border=\"1\" class=\"dataframe\">\n",
              "  <thead>\n",
              "    <tr style=\"text-align: right;\">\n",
              "      <th></th>\n",
              "      <th>userId</th>\n",
              "      <th>movieId</th>\n",
              "      <th>rating</th>\n",
              "      <th>timestamp</th>\n",
              "      <th>genres</th>\n",
              "      <th>tag</th>\n",
              "    </tr>\n",
              "  </thead>\n",
              "  <tbody>\n",
              "    <tr>\n",
              "      <th>66079</th>\n",
              "      <td>524</td>\n",
              "      <td>1266</td>\n",
              "      <td>5.0</td>\n",
              "      <td>851609711</td>\n",
              "      <td>['Drama', 'Western']</td>\n",
              "      <td>[]</td>\n",
              "    </tr>\n",
              "    <tr>\n",
              "      <th>66065</th>\n",
              "      <td>524</td>\n",
              "      <td>1196</td>\n",
              "      <td>5.0</td>\n",
              "      <td>851609335</td>\n",
              "      <td>['Action', 'Adventure', 'Sci-Fi']</td>\n",
              "      <td>[]</td>\n",
              "    </tr>\n",
              "    <tr>\n",
              "      <th>66067</th>\n",
              "      <td>524</td>\n",
              "      <td>1198</td>\n",
              "      <td>5.0</td>\n",
              "      <td>851609256</td>\n",
              "      <td>['Action', 'Adventure']</td>\n",
              "      <td>[]</td>\n",
              "    </tr>\n",
              "    <tr>\n",
              "      <th>66068</th>\n",
              "      <td>524</td>\n",
              "      <td>1200</td>\n",
              "      <td>5.0</td>\n",
              "      <td>851609623</td>\n",
              "      <td>['Action', 'Adventure', 'Horror', 'Sci-Fi']</td>\n",
              "      <td>[]</td>\n",
              "    </tr>\n",
              "    <tr>\n",
              "      <th>66028</th>\n",
              "      <td>524</td>\n",
              "      <td>457</td>\n",
              "      <td>5.0</td>\n",
              "      <td>851608781</td>\n",
              "      <td>['Thriller']</td>\n",
              "      <td>[]</td>\n",
              "    </tr>\n",
              "    <tr>\n",
              "      <th>...</th>\n",
              "      <td>...</td>\n",
              "      <td>...</td>\n",
              "      <td>...</td>\n",
              "      <td>...</td>\n",
              "      <td>...</td>\n",
              "      <td>...</td>\n",
              "    </tr>\n",
              "    <tr>\n",
              "      <th>66034</th>\n",
              "      <td>524</td>\n",
              "      <td>544</td>\n",
              "      <td>1.0</td>\n",
              "      <td>851609066</td>\n",
              "      <td>['Action', 'Crime']</td>\n",
              "      <td>[]</td>\n",
              "    </tr>\n",
              "    <tr>\n",
              "      <th>66015</th>\n",
              "      <td>524</td>\n",
              "      <td>318</td>\n",
              "      <td>1.0</td>\n",
              "      <td>851608745</td>\n",
              "      <td>['Crime', 'Drama']</td>\n",
              "      <td>[]</td>\n",
              "    </tr>\n",
              "    <tr>\n",
              "      <th>66011</th>\n",
              "      <td>524</td>\n",
              "      <td>208</td>\n",
              "      <td>1.0</td>\n",
              "      <td>851609297</td>\n",
              "      <td>['Action', 'Adventure', 'Sci-Fi']</td>\n",
              "      <td>[]</td>\n",
              "    </tr>\n",
              "    <tr>\n",
              "      <th>66064</th>\n",
              "      <td>524</td>\n",
              "      <td>1193</td>\n",
              "      <td>1.0</td>\n",
              "      <td>851609665</td>\n",
              "      <td>['Drama']</td>\n",
              "      <td>[]</td>\n",
              "    </tr>\n",
              "    <tr>\n",
              "      <th>65989</th>\n",
              "      <td>524</td>\n",
              "      <td>12</td>\n",
              "      <td>1.0</td>\n",
              "      <td>852404800</td>\n",
              "      <td>['Comedy', 'Horror']</td>\n",
              "      <td>[]</td>\n",
              "    </tr>\n",
              "  </tbody>\n",
              "</table>\n",
              "<p>105 rows × 6 columns</p>\n",
              "</div>"
            ],
            "text/plain": [
              "       userId  movieId  rating  timestamp  \\\n",
              "66079     524     1266     5.0  851609711   \n",
              "66065     524     1196     5.0  851609335   \n",
              "66067     524     1198     5.0  851609256   \n",
              "66068     524     1200     5.0  851609623   \n",
              "66028     524      457     5.0  851608781   \n",
              "...       ...      ...     ...        ...   \n",
              "66034     524      544     1.0  851609066   \n",
              "66015     524      318     1.0  851608745   \n",
              "66011     524      208     1.0  851609297   \n",
              "66064     524     1193     1.0  851609665   \n",
              "65989     524       12     1.0  852404800   \n",
              "\n",
              "                                            genres tag  \n",
              "66079                         ['Drama', 'Western']  []  \n",
              "66065            ['Action', 'Adventure', 'Sci-Fi']  []  \n",
              "66067                      ['Action', 'Adventure']  []  \n",
              "66068  ['Action', 'Adventure', 'Horror', 'Sci-Fi']  []  \n",
              "66028                                 ['Thriller']  []  \n",
              "...                                            ...  ..  \n",
              "66034                          ['Action', 'Crime']  []  \n",
              "66015                           ['Crime', 'Drama']  []  \n",
              "66011            ['Action', 'Adventure', 'Sci-Fi']  []  \n",
              "66064                                    ['Drama']  []  \n",
              "65989                         ['Comedy', 'Horror']  []  \n",
              "\n",
              "[105 rows x 6 columns]"
            ]
          },
          "metadata": {
            "tags": []
          },
          "execution_count": 322
        }
      ]
    },
    {
      "cell_type": "code",
      "metadata": {
        "id": "Y_QC1vZFK_G0",
        "colab_type": "code",
        "colab": {},
        "outputId": "bc409d9a-36fb-48a3-9453-c219239fdfd9"
      },
      "source": [
        "testdf[testdf['userId'] == 574]\n",
        "# testdf[testdf['userId'] == 574]\n",
        "# testdf[testdf['userId'] == 576]"
      ],
      "execution_count": null,
      "outputs": [
        {
          "output_type": "execute_result",
          "data": {
            "text/html": [
              "<div>\n",
              "<style scoped>\n",
              "    .dataframe tbody tr th:only-of-type {\n",
              "        vertical-align: middle;\n",
              "    }\n",
              "\n",
              "    .dataframe tbody tr th {\n",
              "        vertical-align: top;\n",
              "    }\n",
              "\n",
              "    .dataframe thead th {\n",
              "        text-align: right;\n",
              "    }\n",
              "</style>\n",
              "<table border=\"1\" class=\"dataframe\">\n",
              "  <thead>\n",
              "    <tr style=\"text-align: right;\">\n",
              "      <th></th>\n",
              "      <th>userId</th>\n",
              "      <th>movieId</th>\n",
              "      <th>rating</th>\n",
              "      <th>timestamp</th>\n",
              "      <th>genres</th>\n",
              "      <th>tag</th>\n",
              "    </tr>\n",
              "  </thead>\n",
              "  <tbody>\n",
              "    <tr>\n",
              "      <th>17795</th>\n",
              "      <td>574</td>\n",
              "      <td>231</td>\n",
              "      <td>5.0</td>\n",
              "      <td>834634443</td>\n",
              "      <td>['Adventure', 'Comedy']</td>\n",
              "      <td>[]</td>\n",
              "    </tr>\n",
              "    <tr>\n",
              "      <th>17796</th>\n",
              "      <td>574</td>\n",
              "      <td>329</td>\n",
              "      <td>4.0</td>\n",
              "      <td>834634443</td>\n",
              "      <td>['Adventure', 'Drama', 'Sci-Fi']</td>\n",
              "      <td>[]</td>\n",
              "    </tr>\n",
              "    <tr>\n",
              "      <th>17797</th>\n",
              "      <td>574</td>\n",
              "      <td>380</td>\n",
              "      <td>4.0</td>\n",
              "      <td>834634383</td>\n",
              "      <td>['Action', 'Adventure', 'Comedy', 'Romance', '...</td>\n",
              "      <td>[]</td>\n",
              "    </tr>\n",
              "    <tr>\n",
              "      <th>17798</th>\n",
              "      <td>574</td>\n",
              "      <td>434</td>\n",
              "      <td>4.0</td>\n",
              "      <td>834634464</td>\n",
              "      <td>['Action', 'Adventure', 'Thriller']</td>\n",
              "      <td>[]</td>\n",
              "    </tr>\n",
              "    <tr>\n",
              "      <th>17799</th>\n",
              "      <td>574</td>\n",
              "      <td>593</td>\n",
              "      <td>5.0</td>\n",
              "      <td>834634504</td>\n",
              "      <td>['Crime', 'Horror', 'Thriller']</td>\n",
              "      <td>[]</td>\n",
              "    </tr>\n",
              "  </tbody>\n",
              "</table>\n",
              "</div>"
            ],
            "text/plain": [
              "       userId  movieId  rating  timestamp  \\\n",
              "17795     574      231     5.0  834634443   \n",
              "17796     574      329     4.0  834634443   \n",
              "17797     574      380     4.0  834634383   \n",
              "17798     574      434     4.0  834634464   \n",
              "17799     574      593     5.0  834634504   \n",
              "\n",
              "                                                  genres tag  \n",
              "17795                            ['Adventure', 'Comedy']  []  \n",
              "17796                   ['Adventure', 'Drama', 'Sci-Fi']  []  \n",
              "17797  ['Action', 'Adventure', 'Comedy', 'Romance', '...  []  \n",
              "17798                ['Action', 'Adventure', 'Thriller']  []  \n",
              "17799                    ['Crime', 'Horror', 'Thriller']  []  "
            ]
          },
          "metadata": {
            "tags": []
          },
          "execution_count": 325
        }
      ]
    },
    {
      "cell_type": "code",
      "metadata": {
        "scrolled": true,
        "id": "3nSK79AUK_G2",
        "colab_type": "code",
        "colab": {},
        "outputId": "0e2be7bd-cd83-4b67-a38f-543b43bbc882"
      },
      "source": [
        "movie_ids = hybrid(1)\n",
        "# movie_ids = hybrid(2)\n",
        "# movie_ids = hybrid(574)\n",
        "# movie_ids = hybrid(9)\n",
        "# movie_ids = hybrid(576)"
      ],
      "execution_count": null,
      "outputs": [
        {
          "output_type": "stream",
          "text": [
            "/usr/local/lib/python3.7/site-packages/ipykernel_launcher.py:5: SettingWithCopyWarning: \n",
            "A value is trying to be set on a copy of a slice from a DataFrame.\n",
            "Try using .loc[row_indexer,col_indexer] = value instead\n",
            "\n",
            "See the caveats in the documentation: https://pandas.pydata.org/pandas-docs/stable/user_guide/indexing.html#returning-a-view-versus-a-copy\n",
            "  \"\"\"\n"
          ],
          "name": "stderr"
        },
        {
          "output_type": "stream",
          "text": [
            "    movieId       est     Model\n",
            "36     2571  5.000000  SVD + CF\n",
            "15     1208  5.000000  SVD + CF\n",
            "8       608  4.998963  SVD + CF\n",
            "35     2542  4.989595  SVD + CF\n",
            "[2571, 1208, 608, 2542]\n",
            "User Vector:  [4.39189189 4.65217391 4.48571429 4.26760563 4.24390244 4.33333333\n",
            " 4.53846154 4.33333333 4.39393939 4.05       3.58333333 4.28571429\n",
            " 4.19354839 4.61111111 4.63157895 0.         0.         4.4\n",
            " 5.         0.        ]\n",
            "User top genre list:  ['Film-Noir', 'Animation', 'Musical']\n",
            "Final list:  [4848, 2186, 88129, 32587, 108318, 3364, 1748, 1260, 1252, 31770, 135887, 115617, 170939, 5618, 172547, 166291, 163134, 175475, 4886, 152081, 36086, 106696, 595, 2078, 919, 364, 1907, 76763, 6863, 551]\n"
          ],
          "name": "stdout"
        }
      ]
    },
    {
      "cell_type": "code",
      "metadata": {
        "id": "Xps-jxbrK_G5",
        "colab_type": "code",
        "colab": {}
      },
      "source": [
        "def get_title(x):\n",
        "    mid = x['movieId']\n",
        "    return movies['title'][movies['movieId'] == mid].values"
      ],
      "execution_count": null,
      "outputs": []
    },
    {
      "cell_type": "code",
      "metadata": {
        "id": "yqKlKMEKK_G7",
        "colab_type": "code",
        "colab": {}
      },
      "source": [
        "def get_genre(x):\n",
        "    mid = x['movieId']\n",
        "    return movies['genres'][movies['movieId'] == mid].values"
      ],
      "execution_count": null,
      "outputs": []
    },
    {
      "cell_type": "code",
      "metadata": {
        "id": "kWHg99PXK_G9",
        "colab_type": "code",
        "colab": {}
      },
      "source": [
        "movie_ids['title'] = movie_ids.apply(get_title, axis=1)\n",
        "movie_ids['genre'] = movie_ids.apply(get_genre, axis=1)"
      ],
      "execution_count": null,
      "outputs": []
    },
    {
      "cell_type": "code",
      "metadata": {
        "scrolled": true,
        "id": "cBJMuis9K_G_",
        "colab_type": "code",
        "colab": {},
        "outputId": "f55c643d-697b-4639-c4aa-4e663d3b2db0"
      },
      "source": [
        "movie_ids.sort_values(by='est', ascending = False).head(10)"
      ],
      "execution_count": null,
      "outputs": [
        {
          "output_type": "execute_result",
          "data": {
            "text/html": [
              "<div>\n",
              "<style scoped>\n",
              "    .dataframe tbody tr th:only-of-type {\n",
              "        vertical-align: middle;\n",
              "    }\n",
              "\n",
              "    .dataframe tbody tr th {\n",
              "        vertical-align: top;\n",
              "    }\n",
              "\n",
              "    .dataframe thead th {\n",
              "        text-align: right;\n",
              "    }\n",
              "</style>\n",
              "<table border=\"1\" class=\"dataframe\">\n",
              "  <thead>\n",
              "    <tr style=\"text-align: right;\">\n",
              "      <th></th>\n",
              "      <th>movieId</th>\n",
              "      <th>est</th>\n",
              "      <th>Model</th>\n",
              "      <th>title</th>\n",
              "      <th>genre</th>\n",
              "    </tr>\n",
              "  </thead>\n",
              "  <tbody>\n",
              "    <tr>\n",
              "      <th>0</th>\n",
              "      <td>2571</td>\n",
              "      <td>5.000000</td>\n",
              "      <td>SVD + CF</td>\n",
              "      <td>[The Matrix]</td>\n",
              "      <td>[['Action', 'Sci-Fi', 'Thriller']]</td>\n",
              "    </tr>\n",
              "    <tr>\n",
              "      <th>1</th>\n",
              "      <td>1208</td>\n",
              "      <td>5.000000</td>\n",
              "      <td>SVD + CF</td>\n",
              "      <td>[Apocalypse Now]</td>\n",
              "      <td>[['Action', 'Drama', 'War']]</td>\n",
              "    </tr>\n",
              "    <tr>\n",
              "      <th>2</th>\n",
              "      <td>608</td>\n",
              "      <td>4.998963</td>\n",
              "      <td>SVD + CF</td>\n",
              "      <td>[Fargo]</td>\n",
              "      <td>[['Comedy', 'Crime', 'Drama', 'Thriller']]</td>\n",
              "    </tr>\n",
              "    <tr>\n",
              "      <th>3</th>\n",
              "      <td>2542</td>\n",
              "      <td>4.989595</td>\n",
              "      <td>SVD + CF</td>\n",
              "      <td>[Lock, Stock and Two Smoking Barrels]</td>\n",
              "      <td>[['Comedy', 'Crime', 'Thriller']]</td>\n",
              "    </tr>\n",
              "    <tr>\n",
              "      <th>57</th>\n",
              "      <td>5618</td>\n",
              "      <td>4.925268</td>\n",
              "      <td>Popularity</td>\n",
              "      <td>[Spirited Away]</td>\n",
              "      <td>[['Adventure', 'Animation', 'Fantasy']]</td>\n",
              "    </tr>\n",
              "    <tr>\n",
              "      <th>67</th>\n",
              "      <td>2078</td>\n",
              "      <td>4.875510</td>\n",
              "      <td>Popularity</td>\n",
              "      <td>[The Jungle Book]</td>\n",
              "      <td>[['Animation', 'Children', 'Comedy', 'Musical']]</td>\n",
              "    </tr>\n",
              "    <tr>\n",
              "      <th>45</th>\n",
              "      <td>2186</td>\n",
              "      <td>4.846480</td>\n",
              "      <td>Popularity</td>\n",
              "      <td>[Strangers on a Train]</td>\n",
              "      <td>[['Crime', 'Drama', 'Film-Noir', 'Thriller']]</td>\n",
              "    </tr>\n",
              "    <tr>\n",
              "      <th>69</th>\n",
              "      <td>364</td>\n",
              "      <td>4.835412</td>\n",
              "      <td>Popularity</td>\n",
              "      <td>[The Lion King]</td>\n",
              "      <td>[['Adventure', 'Animation', 'Children', 'Drama...</td>\n",
              "    </tr>\n",
              "    <tr>\n",
              "      <th>50</th>\n",
              "      <td>1748</td>\n",
              "      <td>4.832581</td>\n",
              "      <td>Popularity</td>\n",
              "      <td>[Dark City]</td>\n",
              "      <td>[['Adventure', 'Film-Noir', 'Sci-Fi', 'Thrille...</td>\n",
              "    </tr>\n",
              "    <tr>\n",
              "      <th>52</th>\n",
              "      <td>1252</td>\n",
              "      <td>4.820373</td>\n",
              "      <td>Popularity</td>\n",
              "      <td>[Chinatown]</td>\n",
              "      <td>[['Crime', 'Film-Noir', 'Mystery', 'Thriller']]</td>\n",
              "    </tr>\n",
              "  </tbody>\n",
              "</table>\n",
              "</div>"
            ],
            "text/plain": [
              "    movieId       est       Model                                  title  \\\n",
              "0      2571  5.000000    SVD + CF                           [The Matrix]   \n",
              "1      1208  5.000000    SVD + CF                       [Apocalypse Now]   \n",
              "2       608  4.998963    SVD + CF                                [Fargo]   \n",
              "3      2542  4.989595    SVD + CF  [Lock, Stock and Two Smoking Barrels]   \n",
              "57     5618  4.925268  Popularity                        [Spirited Away]   \n",
              "67     2078  4.875510  Popularity                      [The Jungle Book]   \n",
              "45     2186  4.846480  Popularity                 [Strangers on a Train]   \n",
              "69      364  4.835412  Popularity                        [The Lion King]   \n",
              "50     1748  4.832581  Popularity                            [Dark City]   \n",
              "52     1252  4.820373  Popularity                            [Chinatown]   \n",
              "\n",
              "                                                genre  \n",
              "0                  [['Action', 'Sci-Fi', 'Thriller']]  \n",
              "1                        [['Action', 'Drama', 'War']]  \n",
              "2          [['Comedy', 'Crime', 'Drama', 'Thriller']]  \n",
              "3                   [['Comedy', 'Crime', 'Thriller']]  \n",
              "57            [['Adventure', 'Animation', 'Fantasy']]  \n",
              "67   [['Animation', 'Children', 'Comedy', 'Musical']]  \n",
              "45      [['Crime', 'Drama', 'Film-Noir', 'Thriller']]  \n",
              "69  [['Adventure', 'Animation', 'Children', 'Drama...  \n",
              "50  [['Adventure', 'Film-Noir', 'Sci-Fi', 'Thrille...  \n",
              "52    [['Crime', 'Film-Noir', 'Mystery', 'Thriller']]  "
            ]
          },
          "metadata": {
            "tags": []
          },
          "execution_count": 340
        }
      ]
    },
    {
      "cell_type": "code",
      "metadata": {
        "id": "9tGGHCBeK_HB",
        "colab_type": "code",
        "colab": {}
      },
      "source": [
        ""
      ],
      "execution_count": null,
      "outputs": []
    }
  ]
}